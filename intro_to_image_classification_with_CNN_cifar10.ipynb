{
  "cells": [
    {
      "cell_type": "markdown",
      "metadata": {
        "id": "itqjucdTB0lI"
      },
      "source": [
        "# Introduction to Image classification with CNN and CIFAR 10 dataset\n",
        "\n",
        "This exercise introduces Convolutional Neural Networks for image classification.  In contrast to the Remote Sensing field, image classification in Computer Vision aims at generating one label for the entire image i.e. to classify an entire image into different categories. We use a neural network architecture that uses convolutional layers to extract features using learned weights in filters. \n",
        "\n",
        "The final output of the model is a series of probabilities (activation scores) with dimension matching the number of classes/labels. For each image, the highest probability is taken as the label/class.\n",
        "\n",
        "## Dataset\n",
        "\n",
        "CIFAR 10 is an image dataset commonly used as a reference/baseline dataset in Machine Learning. It is produced by the Canadian Center for Advanced Research. It consists of set of 60,000 images of 10 classes of color images of size 32x32x3. The classes are common objects or animals. For instance, class 4 corresponds cats while class 2 corresponds to automobiles. The images are coarsened colors with Red, Blue, Green chanels. Of the 60,000 images, 50,000 are reserved for training while 10,000 are reserved for testing. \n",
        "\n",
        "## Interesting Links\n",
        "- lenet architecture: http://yann.lecun.com/exdb/lenet/\n",
        "\n",
        "- lenet5: https://towardsdatascience.com/understanding-and-implementing-lenet-5-cnn-architecture-deep-learning-a2d531ebc342\n",
        "\n",
        "- cross entropy loss: https://gombru.github.io/2018/05/23/cross_entropy_loss/\n"
      ]
    },
    {
      "cell_type": "markdown",
      "metadata": {
        "id": "Ga6vGxHCFZWj"
      },
      "source": [
        "# Documentation and packages\n",
        "\n",
        "First, we set up the code by providing information on the Authors, Creation dates, version by importing relevant python packages. Documenting and providing context and information within a script is important as it is often the case that code will be reused for other applications or other users/colleagues Good documentation improves code reproducibility as well.\n",
        "\n"
      ]
    },
    {
      "cell_type": "code",
      "execution_count": null,
      "metadata": {
        "id": "Rp9YrxsVFtNV"
      },
      "outputs": [],
      "source": [
        "####################################    Intro to CNN CIFAR 10 #######################################\n",
        "##############################################################################\n",
        "# This script demonstrates the building of a basic CNN model to predict the label of 10 classes of a set of images.\n",
        "# We use the CIFAR 10 dataset here.\n",
        "#AUTHORS: Benoit Parmentier                                             \n",
        "#DATE CREATED: 12/02/2019 \n",
        "#DATE MODIFIED: 03/20/2023\n",
        "#Version: 1\n",
        "#PROJECT: Course on DL\n",
        "#TO DO:\n",
        "#\n",
        "#COMMIT: \n",
        "#Useful links:\n",
        "#https://en.wikipedia.org/wiki/CIFAR-10\n",
        "\n",
        "##################################################################################################\n",
        "\n",
        "###### Library used in this script\n",
        "\n",
        "#Need some clean up here\n",
        "import matplotlib.pyplot as plt\n",
        "\n",
        "import matplotlib.cm as cm\n",
        "import matplotlib.colors as colors\n",
        "from matplotlib.colors import ListedColormap, BoundaryNorm\n",
        "from matplotlib import colors\n",
        "import matplotlib.patches as mpatches\n",
        "import seaborn as sns\n",
        "\n",
        "from sklearn.metrics import classification_report\n",
        "from sklearn.metrics import confusion_matrix\n",
        "\n",
        "#Deep learning packages\n",
        "from tensorflow import keras\n",
        "from keras.models import Model\n",
        "from tensorflow.keras.optimizers import Adam\n",
        "from tensorflow.keras import layers\n",
        "from tensorflow.keras.layers import Input, Conv2D, Concatenate, Activation, MaxPool2D, UpSampling2D, Conv2DTranspose\n",
        "from tensorflow.keras import models\n",
        "from tensorflow.keras.datasets import cifar10\n",
        "from tensorflow.keras.models import Model\n",
        "from tensorflow.keras.optimizers import Adam\n",
        "from tensorflow.keras.layers import Input, Conv2D, Concatenate, Activation, MaxPool2D, UpSampling2D, Conv2DTranspose\n",
        "from tensorflow.keras.models import Sequential\n",
        "from tensorflow.keras.layers import Dense\n",
        "from tensorflow.keras.layers import Dropout\n",
        "from tensorflow.keras.layers import Flatten\n",
        "from keras.constraints import maxnorm\n",
        "from tensorflow.keras.optimizers import SGD\n",
        "from tensorflow.keras.layers import Activation\n",
        "from tensorflow.keras.layers import Conv2D\n",
        "from tensorflow.keras.layers import MaxPooling2D\n",
        "from tensorflow.keras.layers import BatchNormalization\n",
        "from keras.utils import np_utils\n",
        "\n",
        "import subprocess\n",
        "import pandas as pd\n",
        "import os, glob\n",
        "import numpy as np\n",
        "from tensorflow.keras.utils import to_categorical\n",
        "\n",
        "\n",
        "np.set_printoptions(suppress=True) #suppress scientific notation\n",
        "pd.set_option('display.float_format', lambda x: '%.4f' % x) #dispaly with four decimal\n"
      ]
    },
    {
      "cell_type": "markdown",
      "metadata": {
        "id": "O03Rw-9eHR_1"
      },
      "source": [
        "The list of packages above constains some of the most common packages used in data science, deep learning.  In this exercise, we use matplotlib and seaborn to make graphs, plots and visualize images. Keras is used in creating the deep learning model. Sklearn provides many functionalities and methods (SVM, random forest etc.) for Machine Learning."
      ]
    },
    {
      "cell_type": "code",
      "execution_count": null,
      "metadata": {
        "id": "mw4ol5mrM1O3"
      },
      "outputs": [],
      "source": [
        "# functions used ot create a output directory\n",
        "def create_dir_and_check_existence(path):\n",
        "    \n",
        "    #Create a new directory\n",
        "    try:\n",
        "        os.makedirs(path)\n",
        "    except:\n",
        "        print (\"directory already exists\")\n",
        "\n",
        "\n",
        "def generate_accuracy(model,y_test,x_test,class_names=None):\n",
        "\n",
        "  \"\"\" \n",
        "  Function to predict and generate accuracy metrics (precision and recall) for each model given input x and y test.\n",
        "\n",
        "  Extended description of function. \n",
        "  \n",
        "  Parameters: \n",
        "  model: keras model\n",
        "  y_test: Input target for test\n",
        "  y_train: target train labels used in classification\n",
        "  class_names: labels for the class predicted\n",
        "\n",
        "  Returns: \n",
        "  report_df: pandas data frame with accuracy metrics\n",
        "  \n",
        "  \"\"\"\n",
        "  \n",
        "  # we can store the array in a data.frame and get the max\n",
        "  y_score = model.predict(x_test)\n",
        "  y_score.shape\n",
        "  y_pred_test_df = pd.DataFrame(y_score)\n",
        "  y_pred_test_df['y_pred_test'] = y_pred_test_df.idxmax(axis = 1) #one to go across the column for each row \n",
        "  y_pred_test_df\n",
        "\n",
        "\n",
        "  y_pred_test = y_pred_test_df['y_pred_test']\n",
        "  report_dict=classification_report(y_test, \n",
        "                                      y_pred_test,\n",
        "                                      target_names=class_names,\n",
        "                                      output_dict=True)\n",
        "  report_df = pd.DataFrame(report_dict)\n",
        "  #confusion_matrix_val = confusion_matrix(y_test,y_pred_test)  #not in use here\n",
        "  model_name = model._name\n",
        "  #display(report_df)\n",
        "  report_df = (report_df.drop(columns=['macro avg','weighted avg'])\n",
        "                        .drop(labels=['f1-score','support'])\n",
        "                        .assign(model_name= lambda x: model_name)\n",
        "                        .assign(num_param= lambda x: model.count_params())\n",
        "                        .reset_index()\n",
        "                        .rename(columns={'index':'metric'})\n",
        "              )\n",
        "  \n",
        "  return report_df\n"
      ]
    },
    {
      "cell_type": "code",
      "execution_count": null,
      "metadata": {
        "colab": {
          "base_uri": "https://localhost:8080/"
        },
        "id": "GYBBOBP2EOtE",
        "outputId": "bdcf19be-5ac2-4402-e255-9c2dbf0be847"
      },
      "outputs": [
        {
          "output_type": "stream",
          "name": "stdout",
          "text": [
            "Drive already mounted at /content/gdrive; to attempt to forcibly remount, call drive.mount(\"/content/gdrive\", force_remount=True).\n"
          ]
        }
      ],
      "source": [
        "from google.colab import drive\n",
        "\n",
        "drive.mount('/content/gdrive')"
      ]
    },
    {
      "cell_type": "markdown",
      "metadata": {
        "id": "ilK2F1b0MAwR"
      },
      "source": [
        "## Parameters and Arguments\n",
        "\n",
        "It is good practice to set all parameters and input arguments at the beginning of the script. This allows for better control and can make modifications of the scripts for other applications easier. Some arguments relate to path directories, input files and general parameters for use in the analyses (e.g. proportion of hold out)."
      ]
    },
    {
      "cell_type": "code",
      "execution_count": null,
      "metadata": {
        "id": "04ypSj4nMChH"
      },
      "outputs": [],
      "source": [
        "############################################################################\n",
        "#####  Parameters and argument set up ########### \n",
        "\n",
        "#ARG 1\n",
        "in_dir = '/content/gdrive/MyDrive/Colab Notebooks/deep_learning_with_satellite_and_geospatial_data_course/intro_to_CNN/data/'\n",
        "#ARG 2\n",
        "out_dir = \"/content/gdrive/MyDrive/Colab Notebooks/deep_learning_with_satellite_and_geospatial_data_course/intro_to_CNN\"\n",
        "\n",
        "#ARGS 3:\n",
        "create_out_dir = True #create a new ouput dir if TRUE\n",
        "#ARG 4\n",
        "out_suffix = \"intro_to_cnn_03202023\" #output suffix for the files and ouptut folder\n",
        "#ARG 5\n",
        "NA_value = -9999 # currently not used: Nan value\n",
        "#ARG 6\n",
        "random_seed=42 #not yet used\n",
        "\n",
        "## Input data\n",
        "#ARG 7-8    \n",
        "run_model = False #Retrain model if True\n",
        "model_path = '/content/gdrive/MyDrive/Colab Notebooks/deep_learning_with_satellite_and_geospatial_data_course/intro_to_CNN/models/output_data_intro_to_cnn_02232022'"
      ]
    },
    {
      "cell_type": "code",
      "execution_count": null,
      "metadata": {
        "id": "1vTdEJ7xMZqZ",
        "colab": {
          "base_uri": "https://localhost:8080/"
        },
        "outputId": "5d6f2050-e4ef-4849-9026-c806b81ca3b8"
      },
      "outputs": [
        {
          "output_type": "stream",
          "name": "stdout",
          "text": [
            "directory already exists\n"
          ]
        }
      ],
      "source": [
        "################# START SCRIPT ###############################\n",
        "\n",
        "######### PART 0: Set up the output dir ################\n",
        "\n",
        "#set up the working directory\n",
        "#Create output directory\n",
        "\n",
        "if create_out_dir==True:\n",
        "    out_dir_new = \"output_data_\"+out_suffix\n",
        "    out_dir = os.path.join(out_dir,\"outputs\",out_dir_new)\n",
        "    create_dir_and_check_existence(out_dir)\n",
        "    os.chdir(out_dir)        #set working directory\n",
        "else:\n",
        "    os.chdir(out_dir) #use working dir defined earlier\n"
      ]
    },
    {
      "cell_type": "code",
      "execution_count": null,
      "metadata": {
        "colab": {
          "base_uri": "https://localhost:8080/"
        },
        "id": "4Oum6p9AMdYq",
        "outputId": "255dadde-b41c-4deb-a8e4-8af0953a9de7"
      },
      "outputs": [
        {
          "output_type": "stream",
          "name": "stdout",
          "text": [
            "/content/gdrive/MyDrive/Colab Notebooks/deep_learning_with_satellite_and_geospatial_data_course/intro_to_CNN/outputs/output_data_intro_to_cnn_03202023\n"
          ]
        }
      ],
      "source": [
        "print(out_dir)"
      ]
    },
    {
      "cell_type": "markdown",
      "metadata": {
        "id": "3_jDpVWVyIib"
      },
      "source": [
        "# Workflow/pipeline\n",
        "\n",
        "In this exercise, we will perform the analysis using a workflow that may be succintly described using the following steps:\n",
        "1. **Visualization and exploration of data** \n",
        "- Obtain data from Keras \n",
        "-Visualize feature images and target value.\n",
        "- Explore if data is balanced\n",
        "2. **Data processing**\n",
        "- change image data type\n",
        "- rescale image values\n",
        "- change label to one hot encoding\n",
        "3. **Build and train model**\n",
        "- build keras models\n",
        "- fit and train models\n",
        "4. **Accuracy Assessment**\n",
        "- use test data to generate an accuracy assessment\n",
        "- assess accuracy using precision and recall."
      ]
    },
    {
      "cell_type": "markdown",
      "metadata": {
        "id": "OKQQ4MXuEYdv"
      },
      "source": [
        "# 1. Visualization and exploration of the Dataset\n",
        "\n",
        "We will first load the dataset using the keras.dataset API. Keras provides the CIFAR dataset already split into training and testing data. The input feature data is an RGB image of 10 differenct classes while the target is the label of the image.\n",
        "The data loaded is in numpy format and we can check the size of the training and testing data below:"
      ]
    },
    {
      "cell_type": "code",
      "execution_count": null,
      "metadata": {
        "colab": {
          "base_uri": "https://localhost:8080/"
        },
        "id": "2DDQCXXI-O_T",
        "outputId": "84803c87-374f-4c87-f1f8-109ca11b062a"
      },
      "outputs": [
        {
          "output_type": "stream",
          "name": "stdout",
          "text": [
            "Size of the input feature CIFAR training dataset:  (50000, 32, 32, 3)\n",
            "Size of the input feature CIFAR testing dataset:  (10000, 32, 32, 3)\n",
            "Size of the input target CIFAR training dataset:  (50000, 1)\n",
            "Size of the input target CIFAR testing dataset:  (10000, 1)\n"
          ]
        }
      ],
      "source": [
        "#example of loading the cifar10 dataset\n",
        "#from keras.datasets import cifar10\n",
        "# load dataset\n",
        "(x_train, y_train), (x_test, y_test) = cifar10.load_data()\n",
        "\n",
        "print(\"Size of the input feature CIFAR training dataset: \",x_train.shape)\n",
        "print(\"Size of the input feature CIFAR testing dataset: \",x_test.shape)\n",
        "print(\"Size of the input target CIFAR training dataset: \",y_train.shape)\n",
        "print(\"Size of the input target CIFAR testing dataset: \",y_test.shape)"
      ]
    },
    {
      "cell_type": "code",
      "execution_count": null,
      "metadata": {
        "colab": {
          "base_uri": "https://localhost:8080/",
          "height": 322
        },
        "id": "8vrHrSHERdAV",
        "outputId": "88770eb0-f26a-4d58-8373-d009e907f670"
      },
      "outputs": [
        {
          "output_type": "stream",
          "name": "stdout",
          "text": [
            "<class 'numpy.ndarray'>\n",
            "(32, 32, 3)\n"
          ]
        },
        {
          "output_type": "execute_result",
          "data": {
            "text/plain": [
              "<matplotlib.image.AxesImage at 0x7f456c8f75b0>"
            ]
          },
          "metadata": {},
          "execution_count": 8
        },
        {
          "output_type": "display_data",
          "data": {
            "text/plain": [
              "<Figure size 432x288 with 1 Axes>"
            ],
            "image/png": "[encoded data removed]"
          },
          "metadata": {
            "needs_background": "light"
          }
        }
      ],
      "source": [
        "print(type(x_train)) #check that the data type is numpy array\n",
        "print(x_train[0].shape) #selecting sample 0\n",
        "plt.imshow(x_train[0])"
      ]
    },
    {
      "cell_type": "code",
      "execution_count": null,
      "metadata": {
        "colab": {
          "base_uri": "https://localhost:8080/"
        },
        "id": "D29rUECEJpPs",
        "outputId": "ca3f57d2-199d-484a-dd68-8e3c3d410933"
      },
      "outputs": [
        {
          "output_type": "stream",
          "name": "stdout",
          "text": [
            "(1,)\n"
          ]
        },
        {
          "output_type": "execute_result",
          "data": {
            "text/plain": [
              "array([6], dtype=uint8)"
            ]
          },
          "metadata": {},
          "execution_count": 9
        }
      ],
      "source": [
        "print(y_train[0].shape)\n",
        "y_train[0]"
      ]
    },
    {
      "cell_type": "code",
      "execution_count": null,
      "metadata": {
        "id": "vq76v5A8mBLF"
      },
      "outputs": [],
      "source": [
        "class_names = ['airplane','automobile','bird','cat','deer',\n",
        "               'dog','frog','horse','ship','truck']"
      ]
    },
    {
      "cell_type": "code",
      "execution_count": null,
      "metadata": {
        "colab": {
          "base_uri": "https://localhost:8080/",
          "height": 135
        },
        "id": "AzULFbu3mHGw",
        "outputId": "59c54504-e394-477c-c76d-77aee81a8b40"
      },
      "outputs": [
        {
          "output_type": "display_data",
          "data": {
            "text/plain": [
              "<Figure size 1080x1080 with 10 Axes>"
            ],
            "image/png": "[encoded data removed]"
          },
          "metadata": {
            "needs_background": "light"
          }
        }
      ],
      "source": [
        "# Let's explore the first 10 images with labels\n",
        "# Print figure with 10 random images from each\n",
        "num_classes=10\n",
        "#fig = plt.figure(figsize=(8,3))\n",
        "f, ax = plt.subplots(1,num_classes,figsize=(15,15))\n",
        "\n",
        "for class_val in range(num_classes):\n",
        "  \n",
        "    class_index = np.where(y_train[:]==class_val)[0] #returns tuple because it is a two dimensional array\n",
        "    #take first element matching the class as it is relevant to the class\n",
        "    image = x_train[class_index]\n",
        "    #print(\"Image size\",image.shape)\n",
        "    ax[class_val].imshow(image[0])\n",
        "    ax[class_val].set_title(class_names[class_val])\n"
      ]
    },
    {
      "cell_type": "code",
      "execution_count": null,
      "metadata": {
        "colab": {
          "base_uri": "https://localhost:8080/"
        },
        "id": "TdJZmXo2pJDj",
        "outputId": "d14bd0ee-ec3f-4884-b961-e0cad886a5ee"
      },
      "outputs": [
        {
          "output_type": "stream",
          "name": "stdout",
          "text": [
            "Frequency of unique values of the said array:\n",
            "[[   0    1    2    3    4    5    6    7    8    9]\n",
            " [5000 5000 5000 5000 5000 5000 5000 5000 5000 5000]]\n"
          ]
        }
      ],
      "source": [
        "#check if dataset is balanced.\n",
        "unique_elements, counts_elements = np.unique(y_train, return_counts=True)\n",
        "print(\"Frequency of unique values of the said array:\")\n",
        "print(np.asarray((unique_elements, counts_elements)))"
      ]
    },
    {
      "cell_type": "markdown",
      "metadata": {
        "id": "ZiyTBijSUzl_"
      },
      "source": [
        "# 2. Data Processing\n",
        "\n",
        "The input data comes as byte for each of the channels. This means that it is within the 0 to 255 range. Neural Networks and deep learning model converge faster when values are within the 0-1 range . We will process the data to prepare the inputs for the model in 3 steps:\n",
        "\n",
        "- change data type for images\n",
        "- change scale to 0-1\n",
        "- change label to one hot encoding"
      ]
    },
    {
      "cell_type": "code",
      "execution_count": null,
      "metadata": {
        "colab": {
          "base_uri": "https://localhost:8080/"
        },
        "id": "8vM8Hzqc3M_3",
        "outputId": "f126598a-da9f-40f5-d37f-0ac05c96a09b"
      },
      "outputs": [
        {
          "output_type": "stream",
          "name": "stdout",
          "text": [
            "uint8\n",
            "uint8\n"
          ]
        }
      ],
      "source": [
        "print(x_train.dtype)\n",
        "print(y_train.dtype)"
      ]
    },
    {
      "cell_type": "markdown",
      "metadata": {
        "id": "gbBfMVNCRn_t"
      },
      "source": [
        "First we need to convert the data type from integer to float.\n"
      ]
    },
    {
      "cell_type": "code",
      "execution_count": null,
      "metadata": {
        "id": "wJ-QGdU3Ut5U"
      },
      "outputs": [],
      "source": [
        "# change data type to float\n",
        "x_train = x_train.astype(np.float32)\n",
        "x_test = x_test.astype(np.float32)\n",
        "\n",
        "# scale between 0 and 1\n",
        "x_train = x_train/255 \n",
        "x_test = x_test/255\n",
        "\n",
        "#Change label to one hot encoding using from keras.utils.to_categorical\n",
        "\n",
        "y_train_cat = to_categorical(y_train, num_classes=10)\n",
        "y_test_cat = to_categorical(y_test, num_classes=10)"
      ]
    },
    {
      "cell_type": "code",
      "execution_count": null,
      "metadata": {
        "colab": {
          "base_uri": "https://localhost:8080/"
        },
        "id": "p2-IU-jK4FrE",
        "outputId": "84200ea3-4521-45d5-d0c2-6280efe329cf"
      },
      "outputs": [
        {
          "output_type": "execute_result",
          "data": {
            "text/plain": [
              "array([0., 0., 0., 0., 0., 0., 1., 0., 0., 0.], dtype=float32)"
            ]
          },
          "metadata": {},
          "execution_count": 15
        }
      ],
      "source": [
        "y_train_cat[0] #this is now one hot encoded"
      ]
    },
    {
      "cell_type": "code",
      "execution_count": null,
      "metadata": {
        "colab": {
          "base_uri": "https://localhost:8080/"
        },
        "id": "wZ72iIQjHbuN",
        "outputId": "94526fbb-0e4c-42e0-cbb2-89118bff9d4d"
      },
      "outputs": [
        {
          "output_type": "execute_result",
          "data": {
            "text/plain": [
              "(32, 32, 3)"
            ]
          },
          "metadata": {},
          "execution_count": 16
        }
      ],
      "source": [
        "x_train.shape[1:] #first image"
      ]
    },
    {
      "cell_type": "markdown",
      "metadata": {
        "id": "oxC6fQoL28ay"
      },
      "source": [
        "# 3. Building and training Models\n",
        "\n",
        "We will be using the sequential api to build the CNN model to classify the 10 CIFAR classes.\n",
        "We will compare 3 model architectures:\n",
        "\n",
        "1. model_dnn: A DNN model using a flatten layer without any CNN layer.\n",
        "2. model_lenet5: The Lenet 5 model, a famous CNN model introduced by Yann Lecun.\n",
        "3. model_cnn: A more complex and recent and CNN architecture using the relu function and some drop out layers."
      ]
    },
    {
      "cell_type": "markdown",
      "metadata": {
        "id": "Tgf4rGFy2enc"
      },
      "source": [
        "## 3.1 Build a Dense Neural Network for CIFAR\n",
        "\n",
        "First, we will use a fully connected network also called dense network because every node in successive layers are connected to the next and previous layers. \n",
        "This can result in a large number of parameters even with a very simple architecture."
      ]
    },
    {
      "cell_type": "code",
      "execution_count": null,
      "metadata": {
        "id": "tn3Zap-H8ZUd"
      },
      "outputs": [],
      "source": [
        "model_dnn = keras.Sequential()\n",
        "model_dnn.add(layers.Flatten(input_shape=x_train.shape[1:]))\n",
        "model_dnn.add(layers.Dense(512,activation='relu'))\n",
        "model_dnn.add(layers.Dense(10,activation='softmax'))\n",
        "\n",
        "model_dnn.compile(loss='categorical_crossentropy', \n",
        "                  optimizer='adam', \n",
        "                  metrics=['accuracy'])\n",
        "\n",
        "model_dnn._name = 'model_dnn' #set keras model name"
      ]
    },
    {
      "cell_type": "code",
      "execution_count": null,
      "metadata": {
        "colab": {
          "base_uri": "https://localhost:8080/"
        },
        "id": "QPKZaAjeDB9d",
        "outputId": "2b193fe0-2303-4269-9c66-b6063048aff0"
      },
      "outputs": [
        {
          "output_type": "stream",
          "name": "stdout",
          "text": [
            "Model: \"model_dnn\"\n",
            "_________________________________________________________________\n",
            " Layer (type)                Output Shape              Param #   \n",
            "=================================================================\n",
            " flatten (Flatten)           (None, 3072)              0         \n",
            "                                                                 \n",
            " dense (Dense)               (None, 512)               1573376   \n",
            "                                                                 \n",
            " dense_1 (Dense)             (None, 10)                5130      \n",
            "                                                                 \n",
            "=================================================================\n",
            "Total params: 1,578,506\n",
            "Trainable params: 1,578,506\n",
            "Non-trainable params: 0\n",
            "_________________________________________________________________\n"
          ]
        }
      ],
      "source": [
        "model_dnn.summary()"
      ]
    },
    {
      "cell_type": "code",
      "execution_count": null,
      "metadata": {
        "colab": {
          "base_uri": "https://localhost:8080/"
        },
        "id": "rg6O3A-6D2iW",
        "outputId": "54a7d2b5-fb09-4531-88d6-82915694ac40"
      },
      "outputs": [
        {
          "output_type": "stream",
          "name": "stdout",
          "text": [
            "Epoch 1/2\n",
            "313/313 [==============================] - 30s 87ms/step - loss: 2.0034 - accuracy: 0.3019 - val_loss: 1.8096 - val_accuracy: 0.3576\n",
            "Epoch 2/2\n",
            "313/313 [==============================] - 13s 42ms/step - loss: 1.7541 - accuracy: 0.3813 - val_loss: 1.7381 - val_accuracy: 0.3831\n"
          ]
        }
      ],
      "source": [
        "# Fit model\n",
        "batch_size =128\n",
        "epochs = 2\n",
        "history_model_dnn = model_dnn.fit(x_train, \n",
        "                                  y_train_cat, \n",
        "                                  batch_size=batch_size, \n",
        "                                  epochs=epochs,\n",
        "                                  validation_split = 0.2, \n",
        "                                  shuffle=True)\n"
      ]
    },
    {
      "cell_type": "markdown",
      "metadata": {
        "id": "UvDAd1doL-EJ"
      },
      "source": [
        "## Building the Lenet CNN model\n",
        "\n",
        "Lenet5 is named after Yann Lecun, one of the 'father' of Deep Learning. It is one of the first model with a Convolutional Neural Network architecture. \n",
        "LeNet-5 contains 5 layers including 2 convolutional hidden layers (followed by averaged pooling) and 2 fully connected hidden layer.\n",
        "\n",
        "![lenet.png](https://raw.githubusercontent.com/MostafaGazar/mobile-ml/master/files/lenet.png)\n",
        "LeNet-5 Architecture. Credit: [LeCun et al., 1998](http://yann.lecun.com/exdb/publis/psgz/lecun-98.ps.gz)"
      ]
    },
    {
      "cell_type": "code",
      "execution_count": null,
      "metadata": {
        "colab": {
          "base_uri": "https://localhost:8080/"
        },
        "id": "IIJCgQRJfHJ4",
        "outputId": "34da77e0-1688-43d6-c195-6e1ae46caae8"
      },
      "outputs": [
        {
          "output_type": "stream",
          "name": "stdout",
          "text": [
            "(32, 32, 3)\n"
          ]
        }
      ],
      "source": [
        "INPUT_SHAPE = x_train.shape[1:]\n",
        "print(INPUT_SHAPE)\n",
        "#height X width X pixel"
      ]
    },
    {
      "cell_type": "code",
      "execution_count": null,
      "metadata": {
        "id": "8CSTLN5SWKB6"
      },
      "outputs": [],
      "source": [
        "model_lenet5 = keras.Sequential()\n",
        "\n",
        "#Conv block 1\n",
        "model_lenet5.add(layers.Conv2D(filters=6, kernel_size=(5,5), strides=(1, 1),\n",
        "    padding=\"valid\",activation='tanh', input_shape=INPUT_SHAPE))\n",
        "model_lenet5.add(layers.AveragePooling2D(pool_size=(2, 2), strides=None))#max pooling more in use currently\n",
        "#Conv block 2\n",
        "model_lenet5.add(layers.Conv2D(filters=16, kernel_size=(5,5),\n",
        "                               strides=(1, 1),padding=\"valid\", activation='tanh'))\n",
        "model_lenet5.add(layers.AveragePooling2D())\n",
        "#DNN/Fully Connected Network\n",
        "model_lenet5.add(layers.Flatten())\n",
        "model_lenet5.add(layers.Dense(units=120, activation='relu'))\n",
        "model_lenet5.add(layers.Dense(units=84, activation='relu'))\n",
        "#Output\n",
        "model_lenet5.add(layers.Dense(units=10, activation = 'softmax'))\n",
        "\n",
        "# Compile model and set loss and optimizer\n",
        "\n",
        "model_lenet5.compile(loss='categorical_crossentropy', \n",
        "              optimizer='adam', \n",
        "              metrics=['accuracy'])\n",
        "model_lenet5._name = 'model_lenet5' # set keras model name"
      ]
    },
    {
      "cell_type": "code",
      "execution_count": null,
      "metadata": {
        "colab": {
          "base_uri": "https://localhost:8080/"
        },
        "id": "LYC06-3QEj7_",
        "outputId": "5aed0f4c-04b4-4cea-df45-44744e1cc60f"
      },
      "outputs": [
        {
          "output_type": "stream",
          "name": "stdout",
          "text": [
            "Model: \"model_lenet5\"\n",
            "_________________________________________________________________\n",
            " Layer (type)                Output Shape              Param #   \n",
            "=================================================================\n",
            " conv2d (Conv2D)             (None, 28, 28, 6)         456       \n",
            "                                                                 \n",
            " average_pooling2d (AverageP  (None, 14, 14, 6)        0         \n",
            " ooling2D)                                                       \n",
            "                                                                 \n",
            " conv2d_1 (Conv2D)           (None, 10, 10, 16)        2416      \n",
            "                                                                 \n",
            " average_pooling2d_1 (Averag  (None, 5, 5, 16)         0         \n",
            " ePooling2D)                                                     \n",
            "                                                                 \n",
            " flatten_1 (Flatten)         (None, 400)               0         \n",
            "                                                                 \n",
            " dense_2 (Dense)             (None, 120)               48120     \n",
            "                                                                 \n",
            " dense_3 (Dense)             (None, 84)                10164     \n",
            "                                                                 \n",
            " dense_4 (Dense)             (None, 10)                850       \n",
            "                                                                 \n",
            "=================================================================\n",
            "Total params: 62,006\n",
            "Trainable params: 62,006\n",
            "Non-trainable params: 0\n",
            "_________________________________________________________________\n"
          ]
        }
      ],
      "source": [
        "model_lenet5.summary()"
      ]
    },
    {
      "cell_type": "code",
      "execution_count": null,
      "metadata": {
        "colab": {
          "base_uri": "https://localhost:8080/"
        },
        "id": "lrdhfqgdWK5x",
        "outputId": "8f5898fc-3407-4329-ad0e-ba9a32fdda44"
      },
      "outputs": [
        {
          "output_type": "stream",
          "name": "stdout",
          "text": [
            "Epoch 1/2\n",
            "313/313 [==============================] - 39s 118ms/step - loss: 1.8368 - accuracy: 0.3368 - val_loss: 1.6852 - val_accuracy: 0.3919\n",
            "Epoch 2/2\n",
            "313/313 [==============================] - 35s 112ms/step - loss: 1.5751 - accuracy: 0.4329 - val_loss: 1.5259 - val_accuracy: 0.4562\n"
          ]
        }
      ],
      "source": [
        "# Fit model\n",
        "batch_size =128\n",
        "epochs = 2\n",
        "history_model_lenet5 = model_lenet5.fit(x_train, \n",
        "                y_train_cat, \n",
        "                batch_size=batch_size, \n",
        "                epochs=epochs,\n",
        "                validation_split = 0.2, \n",
        "                shuffle=True)"
      ]
    },
    {
      "cell_type": "markdown",
      "metadata": {
        "id": "wg8vwpH6WLc4"
      },
      "source": [
        "## Building a more complex CNN model"
      ]
    },
    {
      "cell_type": "code",
      "execution_count": null,
      "metadata": {
        "colab": {
          "base_uri": "https://localhost:8080/"
        },
        "id": "GxcRMkQgnw8W",
        "outputId": "601ff2c1-187a-4cee-b5f5-9e739718fbdf"
      },
      "outputs": [
        {
          "output_type": "stream",
          "name": "stdout",
          "text": [
            "(32, 32, 3)\n"
          ]
        }
      ],
      "source": [
        "print(INPUT_SHAPE)"
      ]
    },
    {
      "cell_type": "code",
      "execution_count": null,
      "metadata": {
        "id": "NAclctJ_Knpd"
      },
      "outputs": [],
      "source": [
        "num_classes =10\n",
        "model_cnn = Sequential()\n",
        "\n",
        "## CNN part\n",
        "#Block 1\n",
        "model_cnn.add(Conv2D(filters=32, kernel_size=(3, 3), padding='same', \n",
        "                 activation='relu', input_shape=INPUT_SHAPE))\n",
        "model_cnn.add(Conv2D(32,(3,3),padding='same', activation='relu'))\n",
        "model_cnn.add(MaxPooling2D(pool_size=(2,2)))\n",
        "\n",
        "#Block 2\n",
        "model_cnn.add(Conv2D(64,(3,3),padding='same',activation='relu'))\n",
        "model_cnn.add(Conv2D(64,(3,3),padding='same',activation='relu'))\n",
        "model_cnn.add(MaxPooling2D(pool_size=(2,2)))\n",
        "\n",
        "#Block 3: \n",
        "model_cnn.add(Conv2D(128,(3,3),padding='same',activation='relu'))\n",
        "model_cnn.add(Conv2D(128,(3,3),padding='same',activation='relu'))\n",
        "model_cnn.add(MaxPooling2D(pool_size=(2,2))) #becomes 4x4 image\n",
        "\n",
        "## DNN part\n",
        "model_cnn.add(Flatten())\n",
        "model_cnn.add(Dropout(0.2))\n",
        "model_cnn.add(Dense(1024,activation='relu'))\n",
        "model_cnn.add(Dropout(0.2))\n",
        "model_cnn.add(Dense(num_classes, activation='softmax'))\n",
        "\n",
        "# Compile model\n",
        "\n",
        "model_cnn.compile(loss='categorical_crossentropy', \n",
        "              optimizer='adam', \n",
        "              metrics=['accuracy'])\n",
        "model_cnn._name = 'model_cnn' # set keras model name"
      ]
    },
    {
      "cell_type": "code",
      "execution_count": null,
      "metadata": {
        "colab": {
          "base_uri": "https://localhost:8080/"
        },
        "id": "qGQk_WLaJP77",
        "outputId": "27770a08-4be5-40ce-929b-dcf00a4e503e"
      },
      "outputs": [
        {
          "output_type": "stream",
          "name": "stdout",
          "text": [
            "Model: \"model_cnn\"\n",
            "_________________________________________________________________\n",
            " Layer (type)                Output Shape              Param #   \n",
            "=================================================================\n",
            " conv2d_2 (Conv2D)           (None, 32, 32, 32)        896       \n",
            "                                                                 \n",
            " conv2d_3 (Conv2D)           (None, 32, 32, 32)        9248      \n",
            "                                                                 \n",
            " max_pooling2d (MaxPooling2D  (None, 16, 16, 32)       0         \n",
            " )                                                               \n",
            "                                                                 \n",
            " conv2d_4 (Conv2D)           (None, 16, 16, 64)        18496     \n",
            "                                                                 \n",
            " conv2d_5 (Conv2D)           (None, 16, 16, 64)        36928     \n",
            "                                                                 \n",
            " max_pooling2d_1 (MaxPooling  (None, 8, 8, 64)         0         \n",
            " 2D)                                                             \n",
            "                                                                 \n",
            " conv2d_6 (Conv2D)           (None, 8, 8, 128)         73856     \n",
            "                                                                 \n",
            " conv2d_7 (Conv2D)           (None, 8, 8, 128)         147584    \n",
            "                                                                 \n",
            " max_pooling2d_2 (MaxPooling  (None, 4, 4, 128)        0         \n",
            " 2D)                                                             \n",
            "                                                                 \n",
            " flatten_2 (Flatten)         (None, 2048)              0         \n",
            "                                                                 \n",
            " dropout (Dropout)           (None, 2048)              0         \n",
            "                                                                 \n",
            " dense_5 (Dense)             (None, 1024)              2098176   \n",
            "                                                                 \n",
            " dropout_1 (Dropout)         (None, 1024)              0         \n",
            "                                                                 \n",
            " dense_6 (Dense)             (None, 10)                10250     \n",
            "                                                                 \n",
            "=================================================================\n",
            "Total params: 2,395,434\n",
            "Trainable params: 2,395,434\n",
            "Non-trainable params: 0\n",
            "_________________________________________________________________\n"
          ]
        }
      ],
      "source": [
        "model_cnn.summary()"
      ]
    },
    {
      "cell_type": "code",
      "execution_count": null,
      "metadata": {
        "colab": {
          "base_uri": "https://localhost:8080/"
        },
        "id": "HE3b22-sTxYX",
        "outputId": "b6ce8bda-5689-4286-8350-f5ac7e20d25e"
      },
      "outputs": [
        {
          "output_type": "stream",
          "name": "stdout",
          "text": [
            "Epoch 1/2\n",
            "313/313 [==============================] - 408s 1s/step - loss: 1.6439 - accuracy: 0.3953 - val_loss: 1.3127 - val_accuracy: 0.5225\n",
            "Epoch 2/2\n",
            "313/313 [==============================] - 401s 1s/step - loss: 1.1537 - accuracy: 0.5840 - val_loss: 0.9972 - val_accuracy: 0.6459\n"
          ]
        }
      ],
      "source": [
        "# Fit model\n",
        "batch_size =128\n",
        "epochs = 2\n",
        "# Fit model: takes between 50 and 60 minutes for epoch 10, about 10-12 minutes for 2 epochs\n",
        "\n",
        "cnn_history = model_cnn.fit(x_train, \n",
        "                y_train_cat, \n",
        "                batch_size=batch_size, \n",
        "                epochs=epochs,\n",
        "                validation_split = 0.2, \n",
        "                shuffle=True)"
      ]
    },
    {
      "cell_type": "code",
      "source": [
        "print(run_model)"
      ],
      "metadata": {
        "colab": {
          "base_uri": "https://localhost:8080/"
        },
        "id": "Ks7tYROAlIdc",
        "outputId": "818e41f9-89ff-42b7-bc6e-7d9e5eeacae7"
      },
      "execution_count": null,
      "outputs": [
        {
          "output_type": "stream",
          "name": "stdout",
          "text": [
            "False\n"
          ]
        }
      ]
    },
    {
      "cell_type": "markdown",
      "metadata": {
        "id": "sLB9vyW2FO-A"
      },
      "source": [
        "# Compiling and fitting models"
      ]
    },
    {
      "cell_type": "code",
      "execution_count": null,
      "metadata": {
        "colab": {
          "base_uri": "https://localhost:8080/"
        },
        "id": "NfAMTeK5K3mf",
        "outputId": "aabf9e53-8290-41b5-8666-05188f4f61f5"
      },
      "outputs": [
        {
          "output_type": "stream",
          "name": "stdout",
          "text": [
            "0\n",
            "model_dnn\n",
            "Model: \"model_dnn\"\n",
            "_________________________________________________________________\n",
            " Layer (type)                Output Shape              Param #   \n",
            "=================================================================\n",
            " flatten (Flatten)           (None, 3072)              0         \n",
            "                                                                 \n",
            " dense (Dense)               (None, 512)               1573376   \n",
            "                                                                 \n",
            " dense_1 (Dense)             (None, 10)                5130      \n",
            "                                                                 \n",
            "=================================================================\n",
            "Total params: 1,578,506\n",
            "Trainable params: 1,578,506\n",
            "Non-trainable params: 0\n",
            "_________________________________________________________________\n",
            "This is the model path  /content/gdrive/MyDrive/Colab Notebooks/deep_learning_with_satellite_and_geospatial_data_course/intro_to_CNN/models/output_data_intro_to_cnn_02232022/model_dnn_intro_to_cnn_02232022.h5\n",
            "1\n",
            "model_lenet5\n",
            "Model: \"model_lenet5\"\n",
            "_________________________________________________________________\n",
            " Layer (type)                Output Shape              Param #   \n",
            "=================================================================\n",
            " conv2d (Conv2D)             (None, 28, 28, 6)         456       \n",
            "                                                                 \n",
            " average_pooling2d (AverageP  (None, 14, 14, 6)        0         \n",
            " ooling2D)                                                       \n",
            "                                                                 \n",
            " conv2d_1 (Conv2D)           (None, 10, 10, 16)        2416      \n",
            "                                                                 \n",
            " average_pooling2d_1 (Averag  (None, 5, 5, 16)         0         \n",
            " ePooling2D)                                                     \n",
            "                                                                 \n",
            " flatten_1 (Flatten)         (None, 400)               0         \n",
            "                                                                 \n",
            " dense_2 (Dense)             (None, 120)               48120     \n",
            "                                                                 \n",
            " dense_3 (Dense)             (None, 84)                10164     \n",
            "                                                                 \n",
            " dense_4 (Dense)             (None, 10)                850       \n",
            "                                                                 \n",
            "=================================================================\n",
            "Total params: 62,006\n",
            "Trainable params: 62,006\n",
            "Non-trainable params: 0\n",
            "_________________________________________________________________\n",
            "This is the model path  /content/gdrive/MyDrive/Colab Notebooks/deep_learning_with_satellite_and_geospatial_data_course/intro_to_CNN/models/output_data_intro_to_cnn_02232022/model_lenet5_intro_to_cnn_02232022.h5\n",
            "2\n",
            "model_cnn\n",
            "Model: \"model_cnn\"\n",
            "_________________________________________________________________\n",
            " Layer (type)                Output Shape              Param #   \n",
            "=================================================================\n",
            " conv2d_2 (Conv2D)           (None, 32, 32, 32)        896       \n",
            "                                                                 \n",
            " conv2d_3 (Conv2D)           (None, 32, 32, 32)        9248      \n",
            "                                                                 \n",
            " max_pooling2d (MaxPooling2D  (None, 16, 16, 32)       0         \n",
            " )                                                               \n",
            "                                                                 \n",
            " conv2d_4 (Conv2D)           (None, 16, 16, 64)        18496     \n",
            "                                                                 \n",
            " conv2d_5 (Conv2D)           (None, 16, 16, 64)        36928     \n",
            "                                                                 \n",
            " max_pooling2d_1 (MaxPooling  (None, 8, 8, 64)         0         \n",
            " 2D)                                                             \n",
            "                                                                 \n",
            " conv2d_6 (Conv2D)           (None, 8, 8, 128)         73856     \n",
            "                                                                 \n",
            " conv2d_7 (Conv2D)           (None, 8, 8, 128)         147584    \n",
            "                                                                 \n",
            " max_pooling2d_2 (MaxPooling  (None, 4, 4, 128)        0         \n",
            " 2D)                                                             \n",
            "                                                                 \n",
            " flatten_2 (Flatten)         (None, 2048)              0         \n",
            "                                                                 \n",
            " dropout (Dropout)           (None, 2048)              0         \n",
            "                                                                 \n",
            " dense_5 (Dense)             (None, 1024)              2098176   \n",
            "                                                                 \n",
            " dropout_1 (Dropout)         (None, 1024)              0         \n",
            "                                                                 \n",
            " dense_6 (Dense)             (None, 10)                10250     \n",
            "                                                                 \n",
            "=================================================================\n",
            "Total params: 2,395,434\n",
            "Trainable params: 2,395,434\n",
            "Non-trainable params: 0\n",
            "_________________________________________________________________\n",
            "This is the model path  /content/gdrive/MyDrive/Colab Notebooks/deep_learning_with_satellite_and_geospatial_data_course/intro_to_CNN/models/output_data_intro_to_cnn_02232022/model_cnn_intro_to_cnn_02232022.h5\n"
          ]
        }
      ],
      "source": [
        "## Loop through this\n",
        "list_models=[model_dnn,model_lenet5,model_cnn] #use the model\n",
        "\n",
        "list_hist_df=[]\n",
        "epochs = 10\n",
        "batch_size = 128\n",
        "\n",
        "if run_model==True:\n",
        "\n",
        "  for model in list_models:\n",
        "  #if run_model=True then train model and store weights and history \n",
        "\n",
        "    # Fit model: takes between 50 and 60 minutes\n",
        "    \n",
        "    model_name = model._name\n",
        "    history_model = model.fit(x_train, \n",
        "                y_train_cat, \n",
        "                batch_size=batch_size, \n",
        "                epochs=epochs,\n",
        "                validation_split = 0.2, \n",
        "                shuffle=True)\n",
        "\n",
        "    hist_df = pd.DataFrame(history_model.history) \n",
        "\n",
        "    # save to json:  \n",
        "    hist_json_file = 'history_'+model_name+'_'+out_suffix+'.json' \n",
        "    with open(hist_json_file, mode='w') as f:\n",
        "        hist_df.to_json(f)\n",
        "    # save to csv: \n",
        "    hist_csv_file = 'history_'+model_name+'_'+out_suffix+'.csv'\n",
        "    with open(hist_csv_file, mode='w') as f:\n",
        "        hist_df.to_csv(f)\n",
        "    # serialize weights to HDF5\n",
        "    model.save_weights(model_name+'_'+out_suffix+'.h5')\n",
        "    list_hist_df.append(hist_df)\n",
        "    print(\"Saved model to disk \", model_name)\n",
        "\n",
        "  #if run_model=False then load models weights and loss history from h5 file\n",
        "if run_model==False:\n",
        "  if model_path is None:\n",
        "    model_path = os.path.join(out_dir,fileglob) #classified\n",
        "    print('Set model path to output directory')\n",
        "\n",
        "  model_names=['model_dnn','model_lenet5','model_cnn']\n",
        "  i=0\n",
        "  for model_name in model_names:\n",
        "    print(i)\n",
        "    print(model_name)\n",
        "    fileglob =\"*\"+model_name+\"*.h5\"\n",
        "    model_path_filename= os.path.join(model_path,fileglob) #classified\n",
        "    model_path_filename = glob.glob(model_path_filename,recursive=False)[0]\n",
        "    model=list_models[i]\n",
        "    model.summary()\n",
        "    print('This is the model path ',model_path_filename)\n",
        "    model.load_weights(model_path_filename)\n",
        "    fileglob ='*'+model_name+\"*.csv\"\n",
        "    history_model_path = os.path.join(model_path,fileglob) #classified\n",
        "    history_model_path = glob.glob(history_model_path,recursive=False)[0]\n",
        "    hist_df = pd.read_csv(history_model_path)\n",
        "    list_models[i]=model #put the updated model with weights in the list\n",
        "    list_hist_df.append(hist_df)\n",
        "    i=i+1"
      ]
    },
    {
      "cell_type": "code",
      "execution_count": null,
      "metadata": {
        "colab": {
          "base_uri": "https://localhost:8080/"
        },
        "id": "NbjWBg-sGaVF",
        "outputId": "a289ac06-9712-4c49-f435-7ca24b34c162"
      },
      "outputs": [
        {
          "output_type": "execute_result",
          "data": {
            "text/plain": [
              "[<keras.engine.sequential.Sequential at 0x7f44e2b9a250>,\n",
              " <keras.engine.sequential.Sequential at 0x7f44e2b9a5e0>,\n",
              " <keras.engine.sequential.Sequential at 0x7f44de43ea30>]"
            ]
          },
          "metadata": {},
          "execution_count": 30
        }
      ],
      "source": [
        "list_models"
      ]
    },
    {
      "cell_type": "code",
      "execution_count": null,
      "metadata": {
        "colab": {
          "base_uri": "https://localhost:8080/"
        },
        "id": "og8gkHeHTvCm",
        "outputId": "00fc8559-cd31-4803-a03d-84c92bf33bdb"
      },
      "outputs": [
        {
          "output_type": "stream",
          "name": "stdout",
          "text": [
            "model_cnn\n"
          ]
        }
      ],
      "source": [
        "print(model._name)"
      ]
    },
    {
      "cell_type": "markdown",
      "metadata": {
        "id": "g38kbvGKELCF"
      },
      "source": [
        "Now let's take a look at the loss and accuracy for the training of the three models. For each epoch, keras computes a loss and accuracy metrics. We extracted these informations for the callback keras object in the previous step during the fitting process."
      ]
    },
    {
      "cell_type": "code",
      "execution_count": null,
      "metadata": {
        "colab": {
          "base_uri": "https://localhost:8080/",
          "height": 269
        },
        "id": "eBn_vUIMFjc6",
        "outputId": "55d5470c-d3d0-47b1-df78-683b693ea26f"
      },
      "outputs": [
        {
          "output_type": "display_data",
          "data": {
            "text/plain": [
              "<Figure size 1152x288 with 3 Axes>"
            ],
            "image/png": "[encoded data removed]"
          },
          "metadata": {
            "needs_background": "light"
          }
        }
      ],
      "source": [
        "num_models=3\n",
        "fig, ax = plt.subplots(1,num_models,figsize=(16,4))\n",
        "model_names=['model_dnn','model_lenet5','model_cnn']\n",
        "\n",
        "for model_val in range(num_models):\n",
        "  hist_df=list_hist_df[model_val]\n",
        "  hist_df['epoch']=np.arange(1,epochs+1)\n",
        "  ax[model_val].plot(hist_df['epoch'],hist_df['accuracy'],label='train')\n",
        "  ax[model_val].plot(hist_df['epoch'],hist_df['val_accuracy'],label='val')\n",
        "  ax[model_val].set_title(model_names[model_val])\n",
        "  ax[model_val].set_xlabel('epoch') \n",
        "  ax[model_val].set_ylabel('accuracy') \n",
        "  ax[model_val].legend()\n",
        "\n",
        "fig.tight_layout()"
      ]
    },
    {
      "cell_type": "code",
      "execution_count": null,
      "metadata": {
        "colab": {
          "base_uri": "https://localhost:8080/",
          "height": 269
        },
        "id": "5cqBao2YNivL",
        "outputId": "a972a2d2-9eac-48c8-c2f5-152023a8489e"
      },
      "outputs": [
        {
          "output_type": "display_data",
          "data": {
            "text/plain": [
              "<Figure size 1152x288 with 3 Axes>"
            ],
            "image/png": "[encoded data removed]"
          },
          "metadata": {
            "needs_background": "light"
          }
        }
      ],
      "source": [
        "num_models=3\n",
        "fig, ax = plt.subplots(1,num_models,figsize=(16,4))\n",
        "model_names=['model_dnn','model_lenet5','model_cnn']\n",
        "\n",
        "for model_val in range(num_models):\n",
        "  hist_df=list_hist_df[model_val]\n",
        "  hist_df['epoch']=np.arange(1,epochs+1)\n",
        "\n",
        "  ax[model_val].plot(hist_df['epoch'],hist_df['loss'],label='train')\n",
        "  ax[model_val].plot(hist_df['epoch'],hist_df['val_loss'],label='val')\n",
        "  ax[model_val].set_title(model_names[model_val])\n",
        "  ax[model_val].set_xlabel('epoch') \n",
        "  ax[model_val].set_ylabel('loss') \n",
        "  ax[model_val].legend()\n",
        "\n",
        "fig.tight_layout()\n",
        "\n",
        "plt.savefig(f'CNN_model_learning_curves_comparison_{out_suffix}.png')"
      ]
    },
    {
      "cell_type": "markdown",
      "metadata": {
        "id": "VJQ534oUM--Y"
      },
      "source": [
        "# Accurary Assessment and models comparison\n",
        "\n",
        "We assess models using the test data. The steps as follow:\n",
        "\n",
        "1. generate test samples and predict using each model\n",
        "2. compute accuracy metrics\n",
        "3. compare models using metrics and complexity.\n",
        "\n",
        "In #1, we generate predictions using the test samples or the model_dnn, model_lenet and model_cnn.\n",
        "\n",
        "In #2, we use the soft and hard predictions to generate confusion metrics and accuracy metrics such as AUC and precision, recall.\n",
        "\n",
        "In #3, we compare the three models using the metrics as well as number of parameters (as proxy for model complexity)."
      ]
    },
    {
      "cell_type": "code",
      "execution_count": null,
      "metadata": {
        "colab": {
          "base_uri": "https://localhost:8080/",
          "height": 396
        },
        "id": "cku0IgnN5Zoy",
        "outputId": "5208cdaa-18e8-4197-fdf5-8660a81f7daa"
      },
      "outputs": [
        {
          "output_type": "stream",
          "name": "stdout",
          "text": [
            "1/1 [==============================] - 0s 174ms/step\n",
            "[[0.03416098 0.00057902 0.00000189 0.00011004 0.00000022 0.00000008\n",
            "  0.00000046 0.00000808 0.9635308  0.00160842]]\n",
            "ship\n",
            "8\n",
            "(1, 32, 32, 3)\n"
          ]
        },
        {
          "output_type": "execute_result",
          "data": {
            "text/plain": [
              "<matplotlib.image.AxesImage at 0x7f44dc0e9f40>"
            ]
          },
          "metadata": {},
          "execution_count": 34
        },
        {
          "output_type": "display_data",
          "data": {
            "text/plain": [
              "<Figure size 432x288 with 1 Axes>"
            ],
            "image/png": "[encoded data removed]"
          },
          "metadata": {
            "needs_background": "light"
          }
        }
      ],
      "source": [
        "test_image = x_test[2:3] #select third image test sample\n",
        "y_score = model_cnn.predict(test_image)\n",
        "print(y_score)\n",
        "print(class_names[np.argmax(y_score)])\n",
        "y_pred_test= np.argmax(y_score)\n",
        "print(y_pred_test)\n",
        "print(test_image.shape)\n",
        "plt.imshow(test_image[0])"
      ]
    },
    {
      "cell_type": "code",
      "execution_count": null,
      "metadata": {
        "colab": {
          "base_uri": "https://localhost:8080/"
        },
        "id": "as3pXD00MDbi",
        "outputId": "daecc748-7dd9-4dd3-963e-67a327b712b5"
      },
      "outputs": [
        {
          "output_type": "execute_result",
          "data": {
            "text/plain": [
              "(10000, 10)"
            ]
          },
          "metadata": {},
          "execution_count": 35
        }
      ],
      "source": [
        "#y_test is a OHE vector but x_test is an image!!\n",
        "#y_test_cat = to_categorical(y_test, num_classes=10)\n",
        "y_test_cat.shape"
      ]
    },
    {
      "cell_type": "code",
      "execution_count": null,
      "metadata": {
        "colab": {
          "base_uri": "https://localhost:8080/"
        },
        "id": "h9mMnyOwM3hI",
        "outputId": "da1d8ec9-10fe-474c-f582-310ff9c9b46f"
      },
      "outputs": [
        {
          "output_type": "stream",
          "name": "stdout",
          "text": [
            "313/313 [==============================] - 30s 97ms/step\n",
            "<class 'numpy.ndarray'>\n"
          ]
        },
        {
          "output_type": "execute_result",
          "data": {
            "text/plain": [
              "(10000, 10)"
            ]
          },
          "metadata": {},
          "execution_count": 36
        }
      ],
      "source": [
        "# we can store the array in a data.frame and get the max\n",
        "#This steps is called 'inference' in deep learning.\n",
        "y_score = model_cnn.predict(x_test)\n",
        "print(type(y_score))\n",
        "y_score.shape"
      ]
    },
    {
      "cell_type": "code",
      "execution_count": null,
      "metadata": {
        "colab": {
          "base_uri": "https://localhost:8080/",
          "height": 424
        },
        "id": "2bVomOHWBt9V",
        "outputId": "47989638-0936-41ec-e7c3-085893127946"
      },
      "outputs": [
        {
          "output_type": "execute_result",
          "data": {
            "text/plain": [
              "          0      1      2      3      4      5      6      7      8      9  \\\n",
              "0    0.0000 0.0000 0.0000 0.9644 0.0000 0.0336 0.0019 0.0000 0.0000 0.0000   \n",
              "1    0.0000 0.0002 0.0000 0.0000 0.0000 0.0000 0.0000 0.0000 0.9998 0.0000   \n",
              "2    0.0342 0.0006 0.0000 0.0001 0.0000 0.0000 0.0000 0.0000 0.9635 0.0016   \n",
              "3    0.9887 0.0040 0.0000 0.0000 0.0000 0.0000 0.0000 0.0000 0.0073 0.0000   \n",
              "4    0.0000 0.0000 0.0000 0.0000 0.0000 0.0000 1.0000 0.0000 0.0000 0.0000   \n",
              "...     ...    ...    ...    ...    ...    ...    ...    ...    ...    ...   \n",
              "9995 0.0688 0.0000 0.0181 0.6905 0.0001 0.0964 0.0000 0.0000 0.1261 0.0000   \n",
              "9996 0.0000 0.0000 0.0000 0.9440 0.0005 0.0111 0.0444 0.0000 0.0000 0.0000   \n",
              "9997 0.0000 0.0000 0.0001 0.0000 0.0000 0.9999 0.0000 0.0000 0.0000 0.0000   \n",
              "9998 0.0011 0.9982 0.0007 0.0000 0.0000 0.0000 0.0000 0.0000 0.0000 0.0000   \n",
              "9999 0.0000 0.0000 0.0000 0.0000 0.0005 0.0000 0.0000 0.9995 0.0000 0.0000   \n",
              "\n",
              "      y_pred_test  \n",
              "0               3  \n",
              "1               8  \n",
              "2               8  \n",
              "3               0  \n",
              "4               6  \n",
              "...           ...  \n",
              "9995            3  \n",
              "9996            3  \n",
              "9997            5  \n",
              "9998            1  \n",
              "9999            7  \n",
              "\n",
              "[10000 rows x 11 columns]"
            ],
            "text/html": [
              "\n",
              "  <div id=\"df-7ac3e1d5-360a-4fb6-b7ac-08026b312276\">\n",
              "    <div class=\"colab-df-container\">\n",
              "      <div>\n",
              "<style scoped>\n",
              "    .dataframe tbody tr th:only-of-type {\n",
              "        vertical-align: middle;\n",
              "    }\n",
              "\n",
              "    .dataframe tbody tr th {\n",
              "        vertical-align: top;\n",
              "    }\n",
              "\n",
              "    .dataframe thead th {\n",
              "        text-align: right;\n",
              "    }\n",
              "</style>\n",
              "<table border=\"1\" class=\"dataframe\">\n",
              "  <thead>\n",
              "    <tr style=\"text-align: right;\">\n",
              "      <th></th>\n",
              "      <th>0</th>\n",
              "      <th>1</th>\n",
              "      <th>2</th>\n",
              "      <th>3</th>\n",
              "      <th>4</th>\n",
              "      <th>5</th>\n",
              "      <th>6</th>\n",
              "      <th>7</th>\n",
              "      <th>8</th>\n",
              "      <th>9</th>\n",
              "      <th>y_pred_test</th>\n",
              "    </tr>\n",
              "  </thead>\n",
              "  <tbody>\n",
              "    <tr>\n",
              "      <th>0</th>\n",
              "      <td>0.0000</td>\n",
              "      <td>0.0000</td>\n",
              "      <td>0.0000</td>\n",
              "      <td>0.9644</td>\n",
              "      <td>0.0000</td>\n",
              "      <td>0.0336</td>\n",
              "      <td>0.0019</td>\n",
              "      <td>0.0000</td>\n",
              "      <td>0.0000</td>\n",
              "      <td>0.0000</td>\n",
              "      <td>3</td>\n",
              "    </tr>\n",
              "    <tr>\n",
              "      <th>1</th>\n",
              "      <td>0.0000</td>\n",
              "      <td>0.0002</td>\n",
              "      <td>0.0000</td>\n",
              "      <td>0.0000</td>\n",
              "      <td>0.0000</td>\n",
              "      <td>0.0000</td>\n",
              "      <td>0.0000</td>\n",
              "      <td>0.0000</td>\n",
              "      <td>0.9998</td>\n",
              "      <td>0.0000</td>\n",
              "      <td>8</td>\n",
              "    </tr>\n",
              "    <tr>\n",
              "      <th>2</th>\n",
              "      <td>0.0342</td>\n",
              "      <td>0.0006</td>\n",
              "      <td>0.0000</td>\n",
              "      <td>0.0001</td>\n",
              "      <td>0.0000</td>\n",
              "      <td>0.0000</td>\n",
              "      <td>0.0000</td>\n",
              "      <td>0.0000</td>\n",
              "      <td>0.9635</td>\n",
              "      <td>0.0016</td>\n",
              "      <td>8</td>\n",
              "    </tr>\n",
              "    <tr>\n",
              "      <th>3</th>\n",
              "      <td>0.9887</td>\n",
              "      <td>0.0040</td>\n",
              "      <td>0.0000</td>\n",
              "      <td>0.0000</td>\n",
              "      <td>0.0000</td>\n",
              "      <td>0.0000</td>\n",
              "      <td>0.0000</td>\n",
              "      <td>0.0000</td>\n",
              "      <td>0.0073</td>\n",
              "      <td>0.0000</td>\n",
              "      <td>0</td>\n",
              "    </tr>\n",
              "    <tr>\n",
              "      <th>4</th>\n",
              "      <td>0.0000</td>\n",
              "      <td>0.0000</td>\n",
              "      <td>0.0000</td>\n",
              "      <td>0.0000</td>\n",
              "      <td>0.0000</td>\n",
              "      <td>0.0000</td>\n",
              "      <td>1.0000</td>\n",
              "      <td>0.0000</td>\n",
              "      <td>0.0000</td>\n",
              "      <td>0.0000</td>\n",
              "      <td>6</td>\n",
              "    </tr>\n",
              "    <tr>\n",
              "      <th>...</th>\n",
              "      <td>...</td>\n",
              "      <td>...</td>\n",
              "      <td>...</td>\n",
              "      <td>...</td>\n",
              "      <td>...</td>\n",
              "      <td>...</td>\n",
              "      <td>...</td>\n",
              "      <td>...</td>\n",
              "      <td>...</td>\n",
              "      <td>...</td>\n",
              "      <td>...</td>\n",
              "    </tr>\n",
              "    <tr>\n",
              "      <th>9995</th>\n",
              "      <td>0.0688</td>\n",
              "      <td>0.0000</td>\n",
              "      <td>0.0181</td>\n",
              "      <td>0.6905</td>\n",
              "      <td>0.0001</td>\n",
              "      <td>0.0964</td>\n",
              "      <td>0.0000</td>\n",
              "      <td>0.0000</td>\n",
              "      <td>0.1261</td>\n",
              "      <td>0.0000</td>\n",
              "      <td>3</td>\n",
              "    </tr>\n",
              "    <tr>\n",
              "      <th>9996</th>\n",
              "      <td>0.0000</td>\n",
              "      <td>0.0000</td>\n",
              "      <td>0.0000</td>\n",
              "      <td>0.9440</td>\n",
              "      <td>0.0005</td>\n",
              "      <td>0.0111</td>\n",
              "      <td>0.0444</td>\n",
              "      <td>0.0000</td>\n",
              "      <td>0.0000</td>\n",
              "      <td>0.0000</td>\n",
              "      <td>3</td>\n",
              "    </tr>\n",
              "    <tr>\n",
              "      <th>9997</th>\n",
              "      <td>0.0000</td>\n",
              "      <td>0.0000</td>\n",
              "      <td>0.0001</td>\n",
              "      <td>0.0000</td>\n",
              "      <td>0.0000</td>\n",
              "      <td>0.9999</td>\n",
              "      <td>0.0000</td>\n",
              "      <td>0.0000</td>\n",
              "      <td>0.0000</td>\n",
              "      <td>0.0000</td>\n",
              "      <td>5</td>\n",
              "    </tr>\n",
              "    <tr>\n",
              "      <th>9998</th>\n",
              "      <td>0.0011</td>\n",
              "      <td>0.9982</td>\n",
              "      <td>0.0007</td>\n",
              "      <td>0.0000</td>\n",
              "      <td>0.0000</td>\n",
              "      <td>0.0000</td>\n",
              "      <td>0.0000</td>\n",
              "      <td>0.0000</td>\n",
              "      <td>0.0000</td>\n",
              "      <td>0.0000</td>\n",
              "      <td>1</td>\n",
              "    </tr>\n",
              "    <tr>\n",
              "      <th>9999</th>\n",
              "      <td>0.0000</td>\n",
              "      <td>0.0000</td>\n",
              "      <td>0.0000</td>\n",
              "      <td>0.0000</td>\n",
              "      <td>0.0005</td>\n",
              "      <td>0.0000</td>\n",
              "      <td>0.0000</td>\n",
              "      <td>0.9995</td>\n",
              "      <td>0.0000</td>\n",
              "      <td>0.0000</td>\n",
              "      <td>7</td>\n",
              "    </tr>\n",
              "  </tbody>\n",
              "</table>\n",
              "<p>10000 rows × 11 columns</p>\n",
              "</div>\n",
              "      <button class=\"colab-df-convert\" onclick=\"convertToInteractive('df-7ac3e1d5-360a-4fb6-b7ac-08026b312276')\"\n",
              "              title=\"Convert this dataframe to an interactive table.\"\n",
              "              style=\"display:none;\">\n",
              "        \n",
              "  <svg xmlns=\"http://www.w3.org/2000/svg\" height=\"24px\"viewBox=\"0 0 24 24\"\n",
              "       width=\"24px\">\n",
              "    <path d=\"M0 0h24v24H0V0z\" fill=\"none\"/>\n",
              "    <path d=\"M18.56 5.44l.94 2.06.94-2.06 2.06-.94-2.06-.94-.94-2.06-.94 2.06-2.06.94zm-11 1L8.5 8.5l.94-2.06 2.06-.94-2.06-.94L8.5 2.5l-.94 2.06-2.06.94zm10 10l.94 2.06.94-2.06 2.06-.94-2.06-.94-.94-2.06-.94 2.06-2.06.94z\"/><path d=\"M17.41 7.96l-1.37-1.37c-.4-.4-.92-.59-1.43-.59-.52 0-1.04.2-1.43.59L10.3 9.45l-7.72 7.72c-.78.78-.78 2.05 0 2.83L4 21.41c.39.39.9.59 1.41.59.51 0 1.02-.2 1.41-.59l7.78-7.78 2.81-2.81c.8-.78.8-2.07 0-2.86zM5.41 20L4 18.59l7.72-7.72 1.47 1.35L5.41 20z\"/>\n",
              "  </svg>\n",
              "      </button>\n",
              "      \n",
              "  <style>\n",
              "    .colab-df-container {\n",
              "      display:flex;\n",
              "      flex-wrap:wrap;\n",
              "      gap: 12px;\n",
              "    }\n",
              "\n",
              "    .colab-df-convert {\n",
              "      background-color: #E8F0FE;\n",
              "      border: none;\n",
              "      border-radius: 50%;\n",
              "      cursor: pointer;\n",
              "      display: none;\n",
              "      fill: #1967D2;\n",
              "      height: 32px;\n",
              "      padding: 0 0 0 0;\n",
              "      width: 32px;\n",
              "    }\n",
              "\n",
              "    .colab-df-convert:hover {\n",
              "      background-color: #E2EBFA;\n",
              "      box-shadow: 0px 1px 2px rgba(60, 64, 67, 0.3), 0px 1px 3px 1px rgba(60, 64, 67, 0.15);\n",
              "      fill: #174EA6;\n",
              "    }\n",
              "\n",
              "    [theme=dark] .colab-df-convert {\n",
              "      background-color: #3B4455;\n",
              "      fill: #D2E3FC;\n",
              "    }\n",
              "\n",
              "    [theme=dark] .colab-df-convert:hover {\n",
              "      background-color: #434B5C;\n",
              "      box-shadow: 0px 1px 3px 1px rgba(0, 0, 0, 0.15);\n",
              "      filter: drop-shadow(0px 1px 2px rgba(0, 0, 0, 0.3));\n",
              "      fill: #FFFFFF;\n",
              "    }\n",
              "  </style>\n",
              "\n",
              "      <script>\n",
              "        const buttonEl =\n",
              "          document.querySelector('#df-7ac3e1d5-360a-4fb6-b7ac-08026b312276 button.colab-df-convert');\n",
              "        buttonEl.style.display =\n",
              "          google.colab.kernel.accessAllowed ? 'block' : 'none';\n",
              "\n",
              "        async function convertToInteractive(key) {\n",
              "          const element = document.querySelector('#df-7ac3e1d5-360a-4fb6-b7ac-08026b312276');\n",
              "          const dataTable =\n",
              "            await google.colab.kernel.invokeFunction('convertToInteractive',\n",
              "                                                     [key], {});\n",
              "          if (!dataTable) return;\n",
              "\n",
              "          const docLinkHtml = 'Like what you see? Visit the ' +\n",
              "            '<a target=\"_blank\" href=https://colab.research.google.com/notebooks/data_table.ipynb>data table notebook</a>'\n",
              "            + ' to learn more about interactive tables.';\n",
              "          element.innerHTML = '';\n",
              "          dataTable['output_type'] = 'display_data';\n",
              "          await google.colab.output.renderOutput(dataTable, element);\n",
              "          const docLink = document.createElement('div');\n",
              "          docLink.innerHTML = docLinkHtml;\n",
              "          element.appendChild(docLink);\n",
              "        }\n",
              "      </script>\n",
              "    </div>\n",
              "  </div>\n",
              "  "
            ]
          },
          "metadata": {},
          "execution_count": 37
        }
      ],
      "source": [
        "y_pred_test_df = pd.DataFrame(y_score)\n",
        "y_pred_test_df['y_pred_test'] = y_pred_test_df.idxmax(axis = 1) #one to go across the column for each row \n",
        "\n",
        "y_pred_test_df"
      ]
    },
    {
      "cell_type": "code",
      "execution_count": null,
      "metadata": {
        "colab": {
          "base_uri": "https://localhost:8080/",
          "height": 935
        },
        "id": "1YijxxMaL2hX",
        "outputId": "c5088f14-0aab-4c66-b729-d54183cf22ae"
      },
      "outputs": [
        {
          "output_type": "display_data",
          "data": {
            "text/plain": [
              "<Figure size 1152x1152 with 1 Axes>"
            ],
            "image/png": "[encoded data removed]"
          },
          "metadata": {
            "needs_background": "light"
          }
        }
      ],
      "source": [
        "#from sklearn.metrics import classification_report\n",
        "#from sklearn.metrics import confusion_matrix\n",
        "y_pred_test = y_pred_test_df['y_pred_test']\n",
        "report_dict=classification_report(y_test, \n",
        "                                      y_pred_test,\n",
        "                                      output_dict=True)\n",
        "report_df = pd.DataFrame(report_dict).transpose()\n",
        "confusion_matrix_val = confusion_matrix(y_test,y_pred_test)\n",
        "\n",
        "fig, ax = plt.subplots(figsize=(16,16))\n",
        "ax.matshow(confusion_matrix_val,cmap=plt.cm.Blues,alpha=0.3)\n",
        "for i in range(confusion_matrix_val.shape[0]):\n",
        "  for j in range(confusion_matrix_val.shape[1]):\n",
        "    ax.text(x=j,y=i,\n",
        "               s=confusion_matrix_val[i,j],\n",
        "               va='center',\n",
        "               ha='center')\n",
        "    plt.xlabel('Predicted Label')\n",
        "    plt.ylabel('True label')"
      ]
    },
    {
      "cell_type": "code",
      "execution_count": null,
      "metadata": {
        "colab": {
          "base_uri": "https://localhost:8080/",
          "height": 457
        },
        "id": "XJ2wgbQ_MBEH",
        "outputId": "d54a06e1-eccd-4de0-9eea-bfb603793701"
      },
      "outputs": [
        {
          "output_type": "execute_result",
          "data": {
            "text/plain": [
              "              precision  recall  f1-score    support\n",
              "0                0.7676  0.8390    0.8017  1000.0000\n",
              "1                0.8333  0.9250    0.8768  1000.0000\n",
              "2                0.7050  0.6930    0.6989  1000.0000\n",
              "3                0.6313  0.5530    0.5896  1000.0000\n",
              "4                0.7417  0.7640    0.7527  1000.0000\n",
              "5                0.7222  0.6500    0.6842  1000.0000\n",
              "6                0.7672  0.8700    0.8154  1000.0000\n",
              "7                0.8458  0.7900    0.8170  1000.0000\n",
              "8                0.8803  0.8460    0.8628  1000.0000\n",
              "9                0.8601  0.8420    0.8509  1000.0000\n",
              "accuracy         0.7772  0.7772    0.7772     0.7772\n",
              "macro avg        0.7755  0.7772    0.7750 10000.0000\n",
              "weighted avg     0.7755  0.7772    0.7750 10000.0000"
            ],
            "text/html": [
              "\n",
              "  <div id=\"df-07ee0a96-b946-4751-9bca-4a22c7d258f3\">\n",
              "    <div class=\"colab-df-container\">\n",
              "      <div>\n",
              "<style scoped>\n",
              "    .dataframe tbody tr th:only-of-type {\n",
              "        vertical-align: middle;\n",
              "    }\n",
              "\n",
              "    .dataframe tbody tr th {\n",
              "        vertical-align: top;\n",
              "    }\n",
              "\n",
              "    .dataframe thead th {\n",
              "        text-align: right;\n",
              "    }\n",
              "</style>\n",
              "<table border=\"1\" class=\"dataframe\">\n",
              "  <thead>\n",
              "    <tr style=\"text-align: right;\">\n",
              "      <th></th>\n",
              "      <th>precision</th>\n",
              "      <th>recall</th>\n",
              "      <th>f1-score</th>\n",
              "      <th>support</th>\n",
              "    </tr>\n",
              "  </thead>\n",
              "  <tbody>\n",
              "    <tr>\n",
              "      <th>0</th>\n",
              "      <td>0.7676</td>\n",
              "      <td>0.8390</td>\n",
              "      <td>0.8017</td>\n",
              "      <td>1000.0000</td>\n",
              "    </tr>\n",
              "    <tr>\n",
              "      <th>1</th>\n",
              "      <td>0.8333</td>\n",
              "      <td>0.9250</td>\n",
              "      <td>0.8768</td>\n",
              "      <td>1000.0000</td>\n",
              "    </tr>\n",
              "    <tr>\n",
              "      <th>2</th>\n",
              "      <td>0.7050</td>\n",
              "      <td>0.6930</td>\n",
              "      <td>0.6989</td>\n",
              "      <td>1000.0000</td>\n",
              "    </tr>\n",
              "    <tr>\n",
              "      <th>3</th>\n",
              "      <td>0.6313</td>\n",
              "      <td>0.5530</td>\n",
              "      <td>0.5896</td>\n",
              "      <td>1000.0000</td>\n",
              "    </tr>\n",
              "    <tr>\n",
              "      <th>4</th>\n",
              "      <td>0.7417</td>\n",
              "      <td>0.7640</td>\n",
              "      <td>0.7527</td>\n",
              "      <td>1000.0000</td>\n",
              "    </tr>\n",
              "    <tr>\n",
              "      <th>5</th>\n",
              "      <td>0.7222</td>\n",
              "      <td>0.6500</td>\n",
              "      <td>0.6842</td>\n",
              "      <td>1000.0000</td>\n",
              "    </tr>\n",
              "    <tr>\n",
              "      <th>6</th>\n",
              "      <td>0.7672</td>\n",
              "      <td>0.8700</td>\n",
              "      <td>0.8154</td>\n",
              "      <td>1000.0000</td>\n",
              "    </tr>\n",
              "    <tr>\n",
              "      <th>7</th>\n",
              "      <td>0.8458</td>\n",
              "      <td>0.7900</td>\n",
              "      <td>0.8170</td>\n",
              "      <td>1000.0000</td>\n",
              "    </tr>\n",
              "    <tr>\n",
              "      <th>8</th>\n",
              "      <td>0.8803</td>\n",
              "      <td>0.8460</td>\n",
              "      <td>0.8628</td>\n",
              "      <td>1000.0000</td>\n",
              "    </tr>\n",
              "    <tr>\n",
              "      <th>9</th>\n",
              "      <td>0.8601</td>\n",
              "      <td>0.8420</td>\n",
              "      <td>0.8509</td>\n",
              "      <td>1000.0000</td>\n",
              "    </tr>\n",
              "    <tr>\n",
              "      <th>accuracy</th>\n",
              "      <td>0.7772</td>\n",
              "      <td>0.7772</td>\n",
              "      <td>0.7772</td>\n",
              "      <td>0.7772</td>\n",
              "    </tr>\n",
              "    <tr>\n",
              "      <th>macro avg</th>\n",
              "      <td>0.7755</td>\n",
              "      <td>0.7772</td>\n",
              "      <td>0.7750</td>\n",
              "      <td>10000.0000</td>\n",
              "    </tr>\n",
              "    <tr>\n",
              "      <th>weighted avg</th>\n",
              "      <td>0.7755</td>\n",
              "      <td>0.7772</td>\n",
              "      <td>0.7750</td>\n",
              "      <td>10000.0000</td>\n",
              "    </tr>\n",
              "  </tbody>\n",
              "</table>\n",
              "</div>\n",
              "      <button class=\"colab-df-convert\" onclick=\"convertToInteractive('df-07ee0a96-b946-4751-9bca-4a22c7d258f3')\"\n",
              "              title=\"Convert this dataframe to an interactive table.\"\n",
              "              style=\"display:none;\">\n",
              "        \n",
              "  <svg xmlns=\"http://www.w3.org/2000/svg\" height=\"24px\"viewBox=\"0 0 24 24\"\n",
              "       width=\"24px\">\n",
              "    <path d=\"M0 0h24v24H0V0z\" fill=\"none\"/>\n",
              "    <path d=\"M18.56 5.44l.94 2.06.94-2.06 2.06-.94-2.06-.94-.94-2.06-.94 2.06-2.06.94zm-11 1L8.5 8.5l.94-2.06 2.06-.94-2.06-.94L8.5 2.5l-.94 2.06-2.06.94zm10 10l.94 2.06.94-2.06 2.06-.94-2.06-.94-.94-2.06-.94 2.06-2.06.94z\"/><path d=\"M17.41 7.96l-1.37-1.37c-.4-.4-.92-.59-1.43-.59-.52 0-1.04.2-1.43.59L10.3 9.45l-7.72 7.72c-.78.78-.78 2.05 0 2.83L4 21.41c.39.39.9.59 1.41.59.51 0 1.02-.2 1.41-.59l7.78-7.78 2.81-2.81c.8-.78.8-2.07 0-2.86zM5.41 20L4 18.59l7.72-7.72 1.47 1.35L5.41 20z\"/>\n",
              "  </svg>\n",
              "      </button>\n",
              "      \n",
              "  <style>\n",
              "    .colab-df-container {\n",
              "      display:flex;\n",
              "      flex-wrap:wrap;\n",
              "      gap: 12px;\n",
              "    }\n",
              "\n",
              "    .colab-df-convert {\n",
              "      background-color: #E8F0FE;\n",
              "      border: none;\n",
              "      border-radius: 50%;\n",
              "      cursor: pointer;\n",
              "      display: none;\n",
              "      fill: #1967D2;\n",
              "      height: 32px;\n",
              "      padding: 0 0 0 0;\n",
              "      width: 32px;\n",
              "    }\n",
              "\n",
              "    .colab-df-convert:hover {\n",
              "      background-color: #E2EBFA;\n",
              "      box-shadow: 0px 1px 2px rgba(60, 64, 67, 0.3), 0px 1px 3px 1px rgba(60, 64, 67, 0.15);\n",
              "      fill: #174EA6;\n",
              "    }\n",
              "\n",
              "    [theme=dark] .colab-df-convert {\n",
              "      background-color: #3B4455;\n",
              "      fill: #D2E3FC;\n",
              "    }\n",
              "\n",
              "    [theme=dark] .colab-df-convert:hover {\n",
              "      background-color: #434B5C;\n",
              "      box-shadow: 0px 1px 3px 1px rgba(0, 0, 0, 0.15);\n",
              "      filter: drop-shadow(0px 1px 2px rgba(0, 0, 0, 0.3));\n",
              "      fill: #FFFFFF;\n",
              "    }\n",
              "  </style>\n",
              "\n",
              "      <script>\n",
              "        const buttonEl =\n",
              "          document.querySelector('#df-07ee0a96-b946-4751-9bca-4a22c7d258f3 button.colab-df-convert');\n",
              "        buttonEl.style.display =\n",
              "          google.colab.kernel.accessAllowed ? 'block' : 'none';\n",
              "\n",
              "        async function convertToInteractive(key) {\n",
              "          const element = document.querySelector('#df-07ee0a96-b946-4751-9bca-4a22c7d258f3');\n",
              "          const dataTable =\n",
              "            await google.colab.kernel.invokeFunction('convertToInteractive',\n",
              "                                                     [key], {});\n",
              "          if (!dataTable) return;\n",
              "\n",
              "          const docLinkHtml = 'Like what you see? Visit the ' +\n",
              "            '<a target=\"_blank\" href=https://colab.research.google.com/notebooks/data_table.ipynb>data table notebook</a>'\n",
              "            + ' to learn more about interactive tables.';\n",
              "          element.innerHTML = '';\n",
              "          dataTable['output_type'] = 'display_data';\n",
              "          await google.colab.output.renderOutput(dataTable, element);\n",
              "          const docLink = document.createElement('div');\n",
              "          docLink.innerHTML = docLinkHtml;\n",
              "          element.appendChild(docLink);\n",
              "        }\n",
              "      </script>\n",
              "    </div>\n",
              "  </div>\n",
              "  "
            ]
          },
          "metadata": {},
          "execution_count": 39
        }
      ],
      "source": [
        "report_df\n",
        "# Note we have 1000 test samples per class\n",
        "#precision: number of correctly predicted categories out of predictions (True Positive/(True Positive + False Positve))\n",
        "#recall: (True Positive/(True Positive + False Negative))\n"
      ]
    },
    {
      "cell_type": "markdown",
      "metadata": {
        "id": "P4ZghM3zNi-k"
      },
      "source": [
        "Let's use a function to generate the accuracy metrics for all models.\n",
        "\n"
      ]
    },
    {
      "cell_type": "code",
      "execution_count": null,
      "metadata": {
        "colab": {
          "base_uri": "https://localhost:8080/",
          "height": 337
        },
        "id": "DZ58Se3mQT9B",
        "outputId": "e809e04a-32cb-415f-c0ec-04cc6c8a089b"
      },
      "outputs": [
        {
          "output_type": "stream",
          "name": "stdout",
          "text": [
            "313/313 [==============================] - 2s 6ms/step\n",
            "313/313 [==============================] - 4s 14ms/step\n",
            "313/313 [==============================] - 27s 85ms/step\n"
          ]
        },
        {
          "output_type": "execute_result",
          "data": {
            "text/plain": [
              "      metric  airplane  automobile   bird    cat   deer    dog   frog  horse  \\\n",
              "0  precision    0.5770      0.4982 0.3840 0.3917 0.3863 0.4395 0.4897 0.4847   \n",
              "1     recall    0.5020      0.7000 0.2780 0.2640 0.4470 0.2980 0.5680 0.6020   \n",
              "2  precision    0.5412      0.7044 0.4403 0.3772 0.4691 0.4935 0.6255 0.6317   \n",
              "3     recall    0.6760      0.5480 0.4390 0.3930 0.4560 0.4170 0.5880 0.6260   \n",
              "4  precision    0.7676      0.8333 0.7050 0.6313 0.7417 0.7222 0.7672 0.8458   \n",
              "5     recall    0.8390      0.9250 0.6930 0.5530 0.7640 0.6500 0.8700 0.7900   \n",
              "\n",
              "    ship  truck  accuracy    model_name  num_param  \n",
              "0 0.6117 0.4973    0.4808     model_dnn    1578506  \n",
              "1 0.5860 0.5630    0.4808     model_dnn    1578506  \n",
              "2 0.6250 0.5598    0.5435  model_lenet5      62006  \n",
              "3 0.6550 0.6370    0.5435  model_lenet5      62006  \n",
              "4 0.8803 0.8601    0.7772     model_cnn    2395434  \n",
              "5 0.8460 0.8420    0.7772     model_cnn    2395434  "
            ],
            "text/html": [
              "\n",
              "  <div id=\"df-62f9b0e6-bd2f-475d-a7e2-f057e16b1b8d\">\n",
              "    <div class=\"colab-df-container\">\n",
              "      <div>\n",
              "<style scoped>\n",
              "    .dataframe tbody tr th:only-of-type {\n",
              "        vertical-align: middle;\n",
              "    }\n",
              "\n",
              "    .dataframe tbody tr th {\n",
              "        vertical-align: top;\n",
              "    }\n",
              "\n",
              "    .dataframe thead th {\n",
              "        text-align: right;\n",
              "    }\n",
              "</style>\n",
              "<table border=\"1\" class=\"dataframe\">\n",
              "  <thead>\n",
              "    <tr style=\"text-align: right;\">\n",
              "      <th></th>\n",
              "      <th>metric</th>\n",
              "      <th>airplane</th>\n",
              "      <th>automobile</th>\n",
              "      <th>bird</th>\n",
              "      <th>cat</th>\n",
              "      <th>deer</th>\n",
              "      <th>dog</th>\n",
              "      <th>frog</th>\n",
              "      <th>horse</th>\n",
              "      <th>ship</th>\n",
              "      <th>truck</th>\n",
              "      <th>accuracy</th>\n",
              "      <th>model_name</th>\n",
              "      <th>num_param</th>\n",
              "    </tr>\n",
              "  </thead>\n",
              "  <tbody>\n",
              "    <tr>\n",
              "      <th>0</th>\n",
              "      <td>precision</td>\n",
              "      <td>0.5770</td>\n",
              "      <td>0.4982</td>\n",
              "      <td>0.3840</td>\n",
              "      <td>0.3917</td>\n",
              "      <td>0.3863</td>\n",
              "      <td>0.4395</td>\n",
              "      <td>0.4897</td>\n",
              "      <td>0.4847</td>\n",
              "      <td>0.6117</td>\n",
              "      <td>0.4973</td>\n",
              "      <td>0.4808</td>\n",
              "      <td>model_dnn</td>\n",
              "      <td>1578506</td>\n",
              "    </tr>\n",
              "    <tr>\n",
              "      <th>1</th>\n",
              "      <td>recall</td>\n",
              "      <td>0.5020</td>\n",
              "      <td>0.7000</td>\n",
              "      <td>0.2780</td>\n",
              "      <td>0.2640</td>\n",
              "      <td>0.4470</td>\n",
              "      <td>0.2980</td>\n",
              "      <td>0.5680</td>\n",
              "      <td>0.6020</td>\n",
              "      <td>0.5860</td>\n",
              "      <td>0.5630</td>\n",
              "      <td>0.4808</td>\n",
              "      <td>model_dnn</td>\n",
              "      <td>1578506</td>\n",
              "    </tr>\n",
              "    <tr>\n",
              "      <th>2</th>\n",
              "      <td>precision</td>\n",
              "      <td>0.5412</td>\n",
              "      <td>0.7044</td>\n",
              "      <td>0.4403</td>\n",
              "      <td>0.3772</td>\n",
              "      <td>0.4691</td>\n",
              "      <td>0.4935</td>\n",
              "      <td>0.6255</td>\n",
              "      <td>0.6317</td>\n",
              "      <td>0.6250</td>\n",
              "      <td>0.5598</td>\n",
              "      <td>0.5435</td>\n",
              "      <td>model_lenet5</td>\n",
              "      <td>62006</td>\n",
              "    </tr>\n",
              "    <tr>\n",
              "      <th>3</th>\n",
              "      <td>recall</td>\n",
              "      <td>0.6760</td>\n",
              "      <td>0.5480</td>\n",
              "      <td>0.4390</td>\n",
              "      <td>0.3930</td>\n",
              "      <td>0.4560</td>\n",
              "      <td>0.4170</td>\n",
              "      <td>0.5880</td>\n",
              "      <td>0.6260</td>\n",
              "      <td>0.6550</td>\n",
              "      <td>0.6370</td>\n",
              "      <td>0.5435</td>\n",
              "      <td>model_lenet5</td>\n",
              "      <td>62006</td>\n",
              "    </tr>\n",
              "    <tr>\n",
              "      <th>4</th>\n",
              "      <td>precision</td>\n",
              "      <td>0.7676</td>\n",
              "      <td>0.8333</td>\n",
              "      <td>0.7050</td>\n",
              "      <td>0.6313</td>\n",
              "      <td>0.7417</td>\n",
              "      <td>0.7222</td>\n",
              "      <td>0.7672</td>\n",
              "      <td>0.8458</td>\n",
              "      <td>0.8803</td>\n",
              "      <td>0.8601</td>\n",
              "      <td>0.7772</td>\n",
              "      <td>model_cnn</td>\n",
              "      <td>2395434</td>\n",
              "    </tr>\n",
              "    <tr>\n",
              "      <th>5</th>\n",
              "      <td>recall</td>\n",
              "      <td>0.8390</td>\n",
              "      <td>0.9250</td>\n",
              "      <td>0.6930</td>\n",
              "      <td>0.5530</td>\n",
              "      <td>0.7640</td>\n",
              "      <td>0.6500</td>\n",
              "      <td>0.8700</td>\n",
              "      <td>0.7900</td>\n",
              "      <td>0.8460</td>\n",
              "      <td>0.8420</td>\n",
              "      <td>0.7772</td>\n",
              "      <td>model_cnn</td>\n",
              "      <td>2395434</td>\n",
              "    </tr>\n",
              "  </tbody>\n",
              "</table>\n",
              "</div>\n",
              "      <button class=\"colab-df-convert\" onclick=\"convertToInteractive('df-62f9b0e6-bd2f-475d-a7e2-f057e16b1b8d')\"\n",
              "              title=\"Convert this dataframe to an interactive table.\"\n",
              "              style=\"display:none;\">\n",
              "        \n",
              "  <svg xmlns=\"http://www.w3.org/2000/svg\" height=\"24px\"viewBox=\"0 0 24 24\"\n",
              "       width=\"24px\">\n",
              "    <path d=\"M0 0h24v24H0V0z\" fill=\"none\"/>\n",
              "    <path d=\"M18.56 5.44l.94 2.06.94-2.06 2.06-.94-2.06-.94-.94-2.06-.94 2.06-2.06.94zm-11 1L8.5 8.5l.94-2.06 2.06-.94-2.06-.94L8.5 2.5l-.94 2.06-2.06.94zm10 10l.94 2.06.94-2.06 2.06-.94-2.06-.94-.94-2.06-.94 2.06-2.06.94z\"/><path d=\"M17.41 7.96l-1.37-1.37c-.4-.4-.92-.59-1.43-.59-.52 0-1.04.2-1.43.59L10.3 9.45l-7.72 7.72c-.78.78-.78 2.05 0 2.83L4 21.41c.39.39.9.59 1.41.59.51 0 1.02-.2 1.41-.59l7.78-7.78 2.81-2.81c.8-.78.8-2.07 0-2.86zM5.41 20L4 18.59l7.72-7.72 1.47 1.35L5.41 20z\"/>\n",
              "  </svg>\n",
              "      </button>\n",
              "      \n",
              "  <style>\n",
              "    .colab-df-container {\n",
              "      display:flex;\n",
              "      flex-wrap:wrap;\n",
              "      gap: 12px;\n",
              "    }\n",
              "\n",
              "    .colab-df-convert {\n",
              "      background-color: #E8F0FE;\n",
              "      border: none;\n",
              "      border-radius: 50%;\n",
              "      cursor: pointer;\n",
              "      display: none;\n",
              "      fill: #1967D2;\n",
              "      height: 32px;\n",
              "      padding: 0 0 0 0;\n",
              "      width: 32px;\n",
              "    }\n",
              "\n",
              "    .colab-df-convert:hover {\n",
              "      background-color: #E2EBFA;\n",
              "      box-shadow: 0px 1px 2px rgba(60, 64, 67, 0.3), 0px 1px 3px 1px rgba(60, 64, 67, 0.15);\n",
              "      fill: #174EA6;\n",
              "    }\n",
              "\n",
              "    [theme=dark] .colab-df-convert {\n",
              "      background-color: #3B4455;\n",
              "      fill: #D2E3FC;\n",
              "    }\n",
              "\n",
              "    [theme=dark] .colab-df-convert:hover {\n",
              "      background-color: #434B5C;\n",
              "      box-shadow: 0px 1px 3px 1px rgba(0, 0, 0, 0.15);\n",
              "      filter: drop-shadow(0px 1px 2px rgba(0, 0, 0, 0.3));\n",
              "      fill: #FFFFFF;\n",
              "    }\n",
              "  </style>\n",
              "\n",
              "      <script>\n",
              "        const buttonEl =\n",
              "          document.querySelector('#df-62f9b0e6-bd2f-475d-a7e2-f057e16b1b8d button.colab-df-convert');\n",
              "        buttonEl.style.display =\n",
              "          google.colab.kernel.accessAllowed ? 'block' : 'none';\n",
              "\n",
              "        async function convertToInteractive(key) {\n",
              "          const element = document.querySelector('#df-62f9b0e6-bd2f-475d-a7e2-f057e16b1b8d');\n",
              "          const dataTable =\n",
              "            await google.colab.kernel.invokeFunction('convertToInteractive',\n",
              "                                                     [key], {});\n",
              "          if (!dataTable) return;\n",
              "\n",
              "          const docLinkHtml = 'Like what you see? Visit the ' +\n",
              "            '<a target=\"_blank\" href=https://colab.research.google.com/notebooks/data_table.ipynb>data table notebook</a>'\n",
              "            + ' to learn more about interactive tables.';\n",
              "          element.innerHTML = '';\n",
              "          dataTable['output_type'] = 'display_data';\n",
              "          await google.colab.output.renderOutput(dataTable, element);\n",
              "          const docLink = document.createElement('div');\n",
              "          docLink.innerHTML = docLinkHtml;\n",
              "          element.appendChild(docLink);\n",
              "        }\n",
              "      </script>\n",
              "    </div>\n",
              "  </div>\n",
              "  "
            ]
          },
          "metadata": {},
          "execution_count": 40
        }
      ],
      "source": [
        "list_report_df = []\n",
        "for model in list_models:\n",
        "  report_df = generate_accuracy(model,y_test,x_test,class_names=class_names )\n",
        "  list_report_df.append(report_df)\n",
        "#list_report_df\n",
        "\n",
        "from functools import reduce\n",
        "report_df = reduce(lambda df1,df2: df1.merge(df2,\"outer\"),list_report_df)\n",
        "report_df"
      ]
    },
    {
      "cell_type": "markdown",
      "metadata": {
        "id": "m47tyaoPO4wp"
      },
      "source": [
        "A few observations that come out of the assessement:\n",
        "1. accuracy show that the best model is model_cnn. It makes sense since it is the most complex architecture (num_param).\n",
        "2. There are large variation in the precision and recall among classes.\n",
        "3.The class with the highest recall is automobile with 0.925 using model cnn. The precision is lower though with 0.84. \n",
        "\n"
      ]
    },
    {
      "cell_type": "markdown",
      "metadata": {
        "id": "l4ztrjbcgA6j"
      },
      "source": [
        "### Understanding the number of parameters\n",
        "\n",
        "In this exercise, we produced 3 different architectures with an increasing degree of complexity: DNN,Lenet and Deeper CNN.\n",
        "\n",
        "DNN is a fully connected neural network (also called dense) because every node in the hidden layers is connected to the previous and next layer. This generates a lof of parameters. If we look at the accuracy table, we can see that we have 1.578 millons parameters even though we only have one hidden layer.Contrast this to Lenet, a five layer network with 4 hidden layers but that only contains 62,006 parameters. The most complex model 'model_cnn' contains 2,395,434 parameters and has 7 hidden layers (max pooling layers have no trained parameters).\n",
        "\n",
        "In general, going from DNN to CNN, you should see a drop in number of parameters. Let us quickly do a count of parameters for the first and last models used as an example: \n",
        "\n",
        "**Model_dnn**\n",
        "\n",
        "In the first architecture we had: \n",
        "\n",
        "- input layer: 32x32x3 = 3072\n",
        "- dense 1: 512 nodes\n",
        "- output: 10 nodes\n",
        "\n",
        "dense 1: HxWxC x nodes in dense 1 + biases\n",
        "dense 1: 32x32x3x512+512= 1,573,376\n",
        "\n",
        "Compare the numbers to the number of parameters in a CNN layer below.\n",
        "\n",
        "**Model_cnn**\n",
        "\n",
        "In the third architecture we had:\n",
        "\n",
        "\n",
        "\n",
        "- conv2d_2: 32x32x32\n",
        "```\n",
        "The general structure to count parameters is as follow:\n",
        "3 input chanels, 32 filters, 3x3 kernels, 32 bias values\n",
        "channel_in x channel_out x kernel+bias\n",
        "3x32x3x3+32= 896\n",
        "```\n",
        "- conv2d_3: 32x32x32\n",
        "32x32x3x3+32= 9248\n",
        "\n",
        "- conv2d_4: 16x16x64\n",
        "32x64x3x3+64= 18496\n",
        "\n",
        "- conv2d_5: 16x16x64\n",
        "64x64x3x3+64= 36928\n",
        "\n",
        "- conv2d_6: 8x8x128\n",
        "64x128x3x3+128= 73856\n",
        "\n",
        "- conv2d_7: 8x8x128\n",
        "128x128x3x3+128= 147,584\n",
        "\n",
        "- dense1: 1024\n",
        "2048x1024+1024= 2,098,176\n",
        "\n",
        "- dense 6: 10\n",
        "1024x10+10= 10250"
      ]
    },
    {
      "cell_type": "code",
      "execution_count": null,
      "metadata": {
        "colab": {
          "base_uri": "https://localhost:8080/"
        },
        "id": "iHE09C3Fhvgu",
        "outputId": "6c45e872-0bde-4e04-c994-deba330aaacd"
      },
      "outputs": [
        {
          "output_type": "stream",
          "name": "stdout",
          "text": [
            "Model: \"model_cnn\"\n",
            "_________________________________________________________________\n",
            " Layer (type)                Output Shape              Param #   \n",
            "=================================================================\n",
            " conv2d_2 (Conv2D)           (None, 32, 32, 32)        896       \n",
            "                                                                 \n",
            " conv2d_3 (Conv2D)           (None, 32, 32, 32)        9248      \n",
            "                                                                 \n",
            " max_pooling2d (MaxPooling2D  (None, 16, 16, 32)       0         \n",
            " )                                                               \n",
            "                                                                 \n",
            " conv2d_4 (Conv2D)           (None, 16, 16, 64)        18496     \n",
            "                                                                 \n",
            " conv2d_5 (Conv2D)           (None, 16, 16, 64)        36928     \n",
            "                                                                 \n",
            " max_pooling2d_1 (MaxPooling  (None, 8, 8, 64)         0         \n",
            " 2D)                                                             \n",
            "                                                                 \n",
            " conv2d_6 (Conv2D)           (None, 8, 8, 128)         73856     \n",
            "                                                                 \n",
            " conv2d_7 (Conv2D)           (None, 8, 8, 128)         147584    \n",
            "                                                                 \n",
            " max_pooling2d_2 (MaxPooling  (None, 4, 4, 128)        0         \n",
            " 2D)                                                             \n",
            "                                                                 \n",
            " flatten_2 (Flatten)         (None, 2048)              0         \n",
            "                                                                 \n",
            " dropout (Dropout)           (None, 2048)              0         \n",
            "                                                                 \n",
            " dense_5 (Dense)             (None, 1024)              2098176   \n",
            "                                                                 \n",
            " dropout_1 (Dropout)         (None, 1024)              0         \n",
            "                                                                 \n",
            " dense_6 (Dense)             (None, 10)                10250     \n",
            "                                                                 \n",
            "=================================================================\n",
            "Total params: 2,395,434\n",
            "Trainable params: 2,395,434\n",
            "Non-trainable params: 0\n",
            "_________________________________________________________________\n"
          ]
        }
      ],
      "source": [
        "model_cnn.summary()"
      ]
    },
    {
      "cell_type": "code",
      "execution_count": null,
      "metadata": {
        "colab": {
          "base_uri": "https://localhost:8080/"
        },
        "id": "TDvPQlHCgsnk",
        "outputId": "99bfc2ff-0aa4-4ac3-9fec-ba6174e3195d"
      },
      "outputs": [
        {
          "output_type": "stream",
          "name": "stdout",
          "text": [
            "Model: \"model_dnn\"\n",
            "_________________________________________________________________\n",
            " Layer (type)                Output Shape              Param #   \n",
            "=================================================================\n",
            " flatten (Flatten)           (None, 3072)              0         \n",
            "                                                                 \n",
            " dense (Dense)               (None, 512)               1573376   \n",
            "                                                                 \n",
            " dense_1 (Dense)             (None, 10)                5130      \n",
            "                                                                 \n",
            "=================================================================\n",
            "Total params: 1,578,506\n",
            "Trainable params: 1,578,506\n",
            "Non-trainable params: 0\n",
            "_________________________________________________________________\n"
          ]
        }
      ],
      "source": [
        "model_dnn.summary()"
      ]
    },
    {
      "cell_type": "markdown",
      "metadata": {
        "id": "cT3q37ex5M3G"
      },
      "source": [
        "# Conclusions\n",
        "\n",
        "In this exercise, we introduced CNN layers for image classification. We used the CIFAR 10 data and predicted the category of each image out of 10 labels. We experimented with the Lenet model and another alternative 10 layers CNN model compared to a fully connected (dense) neural network architecture.\n",
        "\n",
        "As expected we found that the most complex CNN model performed the best. We also found that CNN performs better in general and allows for a substantials reduction of the number of paramaters."
      ]
    },
    {
      "cell_type": "code",
      "execution_count": null,
      "metadata": {
        "id": "m3JWFs8f5FFV"
      },
      "outputs": [],
      "source": [
        "############################# END OF SCRIPT ###################################"
      ]
    }
  ],
  "metadata": {
    "accelerator": "TPU",
    "colab": {
      "provenance": [],
      "toc_visible": true
    },
    "kernelspec": {
      "display_name": "Python 3",
      "language": "python",
      "name": "python3"
    },
    "language_info": {
      "codemirror_mode": {
        "name": "ipython",
        "version": 3
      },
      "file_extension": ".py",
      "mimetype": "text/x-python",
      "name": "python",
      "nbconvert_exporter": "python",
      "pygments_lexer": "ipython3",
      "version": "3.8.5"
    }
  },
  "nbformat": 4,
  "nbformat_minor": 0
}